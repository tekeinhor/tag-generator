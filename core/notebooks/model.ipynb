{
 "cells": [
  {
   "cell_type": "code",
   "execution_count": 1,
   "id": "6bda2469-9cde-40c8-96bc-f8f2b6041c50",
   "metadata": {},
   "outputs": [],
   "source": [
    "import os\n",
    "import time\n",
    "import joblib\n",
    "import numpy as np\n",
    "import pandas as pd\n",
    "from ast import literal_eval\n",
    "import matplotlib.pyplot as plt\n",
    "import seaborn as sns\n",
    "from sklearn import set_config\n",
    "import sklearn.metrics as metrics\n",
    "from sklearn.feature_extraction.text import TfidfVectorizer\n",
    "from sklearn.preprocessing import MultiLabelBinarizer\n",
    "from sklearn.model_selection import train_test_split\n",
    "from sklearn.multiclass import OneVsRestClassifier\n",
    "from sklearn.linear_model import LogisticRegression"
   ]
  },
  {
   "cell_type": "code",
   "execution_count": 2,
   "id": "793cc856-b037-4fe5-9e79-56085361158e",
   "metadata": {},
   "outputs": [
    {
     "name": "stdout",
     "output_type": "stream",
     "text": [
      "/Users/tatia/Developer/tag-generator/core/data/final/2024-01-02/19\n",
      "/Users/tatia/Developer/tag-generator/core/data/final/2024-01-02/19/193120_final_so_questions_2008_2023.csv\n"
     ]
    },
    {
     "data": {
      "text/html": [
       "<div>\n",
       "<style scoped>\n",
       "    .dataframe tbody tr th:only-of-type {\n",
       "        vertical-align: middle;\n",
       "    }\n",
       "\n",
       "    .dataframe tbody tr th {\n",
       "        vertical-align: top;\n",
       "    }\n",
       "\n",
       "    .dataframe thead th {\n",
       "        text-align: right;\n",
       "    }\n",
       "</style>\n",
       "<table border=\"1\" class=\"dataframe\">\n",
       "  <thead>\n",
       "    <tr style=\"text-align: right;\">\n",
       "      <th></th>\n",
       "      <th>Title</th>\n",
       "      <th>Body</th>\n",
       "      <th>All_Tags</th>\n",
       "      <th>Tags</th>\n",
       "    </tr>\n",
       "  </thead>\n",
       "  <tbody>\n",
       "    <tr>\n",
       "      <th>0</th>\n",
       "      <td>[convert, decimal, double]</td>\n",
       "      <td>[want, assign, decimal, variable, trans, doubl...</td>\n",
       "      <td>['c#', 'floating-point', 'type-conversion', 'd...</td>\n",
       "      <td>[c#]</td>\n",
       "    </tr>\n",
       "    <tr>\n",
       "      <th>1</th>\n",
       "      <td>[width, collapse, percentage, width, child, el...</td>\n",
       "      <td>[absolutely, positioned, containing, several, ...</td>\n",
       "      <td>['html', 'css', 'internet-explorer-7']</td>\n",
       "      <td>[html, css]</td>\n",
       "    </tr>\n",
       "    <tr>\n",
       "      <th>2</th>\n",
       "      <td>[calculate, age, based, datetime, type, birthday]</td>\n",
       "      <td>[given, representing, person, birthday, calcul...</td>\n",
       "      <td>['c#', '.net', 'datetime']</td>\n",
       "      <td>[c#, .net]</td>\n",
       "    </tr>\n",
       "  </tbody>\n",
       "</table>\n",
       "</div>"
      ],
      "text/plain": [
       "                                               Title  \\\n",
       "0                         [convert, decimal, double]   \n",
       "1  [width, collapse, percentage, width, child, el...   \n",
       "2  [calculate, age, based, datetime, type, birthday]   \n",
       "\n",
       "                                                Body  \\\n",
       "0  [want, assign, decimal, variable, trans, doubl...   \n",
       "1  [absolutely, positioned, containing, several, ...   \n",
       "2  [given, representing, person, birthday, calcul...   \n",
       "\n",
       "                                            All_Tags         Tags  \n",
       "0  ['c#', 'floating-point', 'type-conversion', 'd...         [c#]  \n",
       "1             ['html', 'css', 'internet-explorer-7']  [html, css]  \n",
       "2                         ['c#', '.net', 'datetime']   [c#, .net]  "
      ]
     },
     "execution_count": 2,
     "metadata": {},
     "output_type": "execute_result"
    }
   ],
   "source": [
    "# Define path to data\n",
    "prefix = \"/Users/tatia/Developer/tag-generator/core\"\n",
    "date = \"2024-01-02/19\"\n",
    "time_str= \"193120\"\n",
    "output_data_dir = f\"{prefix}/data/final/{date}\"\n",
    "\n",
    "print(output_data_dir)\n",
    "data_file_name = f\"{time_str}_final_so_questions_2008_2023.csv\"\n",
    "print(f\"{output_data_dir}/{data_file_name}\")\n",
    "data = pd.read_csv(f\"{output_data_dir}/{data_file_name}\", index_col=0,\n",
    "                   converters={\"Title\": literal_eval,\n",
    "                               \"Body\": literal_eval,\n",
    "                               \"Tags\": literal_eval})\n",
    "data.head(3)\n"
   ]
  },
  {
   "cell_type": "code",
   "execution_count": 3,
   "id": "f31208ee-ada5-4e06-a6c7-21d8af58a803",
   "metadata": {},
   "outputs": [
    {
     "data": {
      "text/plain": [
       "(676651, 4)"
      ]
     },
     "execution_count": 3,
     "metadata": {},
     "output_type": "execute_result"
    }
   ],
   "source": [
    "data.shape"
   ]
  },
  {
   "cell_type": "code",
   "execution_count": 4,
   "id": "b113ec69-d0f0-4138-84d1-a12cd1308006",
   "metadata": {},
   "outputs": [
    {
     "data": {
      "text/plain": [
       "0    [convert, decimal, double, want, assign, decim...\n",
       "1    [width, collapse, percentage, width, child, el...\n",
       "2    [calculate, age, based, datetime, type, birthd...\n",
       "Name: Full_doc, dtype: object"
      ]
     },
     "execution_count": 4,
     "metadata": {},
     "output_type": "execute_result"
    }
   ],
   "source": [
    "data[\"Full_doc\"] = data[\"Title\"] + data[\"Body\"]\n",
    "data[\"Full_doc\"].head(3)"
   ]
  },
  {
   "cell_type": "code",
   "execution_count": 5,
   "id": "5ef3d8a1-d9f1-4f2a-8cca-5efe96d338ba",
   "metadata": {},
   "outputs": [],
   "source": [
    "def metrics_score(model, df, y_true, y_pred):\n",
    "    \"\"\"Compilation function of metrics specific to multi-label\n",
    "    classification problems in a Pandas DataFrame.\n",
    "    This dataFrame will have 1 row per metric\n",
    "    and 1 column per model tested. \n",
    "\n",
    "    Parameters\n",
    "    ----------------------------------------\n",
    "    model : string\n",
    "        Name of the tested model\n",
    "    df : DataFrame \n",
    "        DataFrame to extend. \n",
    "        If None : Create DataFrame.\n",
    "    y_true : array\n",
    "        Array of true values to test\n",
    "    y_pred : array\n",
    "        Array of predicted values to test\n",
    "    ----------------------------------------\n",
    "    \"\"\"\n",
    "    if(df is not None):\n",
    "        temp_df = df\n",
    "    else:\n",
    "        temp_df = pd.DataFrame(index=[\"Accuracy\", \"F1\",\n",
    "                                      \"Jaccard\", \"Recall\",\n",
    "                                      \"Precision\"],\n",
    "                               columns=[model])\n",
    "        \n",
    "    scores = []\n",
    "    scores.append(metrics.accuracy_score(y_true, \n",
    "                                         y_pred))\n",
    "    scores.append(metrics.f1_score(y_pred, \n",
    "                                   y_true, \n",
    "                                   average='weighted'))\n",
    "    scores.append(metrics.jaccard_score(y_true, \n",
    "                                        y_pred, \n",
    "                                        average='weighted'))\n",
    "    scores.append(metrics.recall_score(y_true, \n",
    "                                       y_pred, \n",
    "                                       average='weighted'))\n",
    "    scores.append(metrics.precision_score(y_true, \n",
    "                                          y_pred, \n",
    "                                          average='weighted'))\n",
    "    temp_df[model] = scores\n",
    "    \n",
    "    return temp_df"
   ]
  },
  {
   "cell_type": "code",
   "execution_count": 6,
   "id": "3d6c34d9-3062-462e-98a8-ea552133aa39",
   "metadata": {},
   "outputs": [
    {
     "name": "stdout",
     "output_type": "stream",
     "text": [
      "Shape of X for Full_doc: (676651, 1134)\n",
      "Shape of y: (676651, 100)\n"
     ]
    }
   ],
   "source": [
    "# Define X and y\n",
    "X = data[\"Full_doc\"]\n",
    "y = data[\"Tags\"]\n",
    "\n",
    "# Initialize the \"CountVectorizer\" TFIDF for Full_doc\n",
    "vectorizer = TfidfVectorizer(analyzer=\"word\",\n",
    "                             max_df=.6,\n",
    "                             min_df=0.005,\n",
    "                             tokenizer=None,\n",
    "                             preprocessor=' '.join,\n",
    "                             stop_words=None,\n",
    "                             lowercase=False)\n",
    "\n",
    "vectorizer.fit(X)\n",
    "X_tfidf = vectorizer.transform(X)\n",
    "\n",
    "print(\"Shape of X for Full_doc: {}\".format(X_tfidf.shape))\n",
    "\n",
    "# Multilabel binarizer for targets\n",
    "multilabel_binarizer = MultiLabelBinarizer()\n",
    "multilabel_binarizer.fit(y)\n",
    "y_binarized = multilabel_binarizer.transform(y)\n",
    "\n",
    "print(\"Shape of y: {}\".format(y_binarized.shape))"
   ]
  },
  {
   "cell_type": "code",
   "execution_count": 7,
   "id": "fc6085cc-14eb-4c38-9d77-e02bca15c3c7",
   "metadata": {},
   "outputs": [
    {
     "name": "stdout",
     "output_type": "stream",
     "text": [
      "X_train shape : (473655, 1134)\n",
      "X_test shape : (202996, 1134)\n",
      "y_train shape : (473655, 100)\n",
      "y_test shape : (202996, 100)\n"
     ]
    }
   ],
   "source": [
    "# Create train and test split (30%)\n",
    "X_train, X_test, y_train, y_test = train_test_split(X_tfidf, y_binarized,\n",
    "                                                    test_size=0.3, random_state=8)\n",
    "print(\"X_train shape : {}\".format(X_train.shape))\n",
    "print(\"X_test shape : {}\".format(X_test.shape))\n",
    "print(\"y_train shape : {}\".format(y_train.shape))\n",
    "print(\"y_test shape : {}\".format(y_test.shape))"
   ]
  },
  {
   "cell_type": "code",
   "execution_count": 8,
   "id": "99cebd89-4464-411c-af02-6fd9b079d005",
   "metadata": {},
   "outputs": [
    {
     "name": "stdout",
     "output_type": "stream",
     "text": [
      "It tooks -4233.229224875002(s)\n"
     ]
    }
   ],
   "source": [
    "from sklearn.model_selection import GridSearchCV\n",
    "# Initialize Logistic Regression with OneVsRest\n",
    "\n",
    "start = time.perf_counter()\n",
    "param_lr = {\"estimator__C\": [100, 10, 1.0, 0.1],\n",
    "               \"estimator__penalty\": [\"l1\", \"l2\"],\n",
    "               \"estimator__dual\": [False],\n",
    "               \"estimator__solver\": [\"liblinear\"]}\n",
    "\n",
    "multiclass_lr_cv = GridSearchCV(OneVsRestClassifier(LogisticRegression()),\n",
    "                              param_grid=param_lr,\n",
    "                              n_jobs=-1,\n",
    "                              cv=5,\n",
    "                              scoring=\"f1_weighted\",\n",
    "                              return_train_score = True,\n",
    "                              refit=True)\n",
    "\n",
    "multiclass_lr_cv.fit(X_train, y_train)\n",
    "end = time.perf_counter()\n",
    "print(f\"It tooks {end - start}(s)\") #1h approx"
   ]
  },
  {
   "cell_type": "code",
   "execution_count": 9,
   "id": "d4c52e75-eba6-4403-a906-5b5cb2d28b50",
   "metadata": {},
   "outputs": [
    {
     "name": "stdout",
     "output_type": "stream",
     "text": [
      "--------------------------------------------------\n",
      "Best params for Logistic Regression\n",
      "--------------------------------------------------\n",
      "{'estimator__C': 100, 'estimator__dual': False, 'estimator__penalty': 'l1', 'estimator__solver': 'liblinear'}\n"
     ]
    }
   ],
   "source": [
    "lr_cv_results = pd.DataFrame.from_dict(multiclass_lr_cv.cv_results_)\n",
    "print(\"-\"*50)\n",
    "print(\"Best params for Logistic Regression\")\n",
    "print(\"-\" * 50)\n",
    "lr_best_params = multiclass_lr_cv.best_params_\n",
    "print(lr_best_params)"
   ]
  },
  {
   "cell_type": "code",
   "execution_count": 10,
   "id": "4134c5d8-38c3-493c-be44-ca562cc3af82",
   "metadata": {},
   "outputs": [
    {
     "data": {
      "text/html": [
       "<div>\n",
       "<style scoped>\n",
       "    .dataframe tbody tr th:only-of-type {\n",
       "        vertical-align: middle;\n",
       "    }\n",
       "\n",
       "    .dataframe tbody tr th {\n",
       "        vertical-align: top;\n",
       "    }\n",
       "\n",
       "    .dataframe thead th {\n",
       "        text-align: right;\n",
       "    }\n",
       "</style>\n",
       "<table border=\"1\" class=\"dataframe\">\n",
       "  <thead>\n",
       "    <tr style=\"text-align: right;\">\n",
       "      <th></th>\n",
       "      <th>mean_fit_time</th>\n",
       "      <th>std_fit_time</th>\n",
       "      <th>mean_score_time</th>\n",
       "      <th>std_score_time</th>\n",
       "      <th>param_estimator__C</th>\n",
       "      <th>param_estimator__dual</th>\n",
       "      <th>param_estimator__penalty</th>\n",
       "      <th>param_estimator__solver</th>\n",
       "      <th>params</th>\n",
       "      <th>split0_test_score</th>\n",
       "      <th>...</th>\n",
       "      <th>mean_test_score</th>\n",
       "      <th>std_test_score</th>\n",
       "      <th>rank_test_score</th>\n",
       "      <th>split0_train_score</th>\n",
       "      <th>split1_train_score</th>\n",
       "      <th>split2_train_score</th>\n",
       "      <th>split3_train_score</th>\n",
       "      <th>split4_train_score</th>\n",
       "      <th>mean_train_score</th>\n",
       "      <th>std_train_score</th>\n",
       "    </tr>\n",
       "  </thead>\n",
       "  <tbody>\n",
       "    <tr>\n",
       "      <th>0</th>\n",
       "      <td>2664.185185</td>\n",
       "      <td>10.264316</td>\n",
       "      <td>1.23594</td>\n",
       "      <td>0.028223</td>\n",
       "      <td>100</td>\n",
       "      <td>False</td>\n",
       "      <td>l1</td>\n",
       "      <td>liblinear</td>\n",
       "      <td>{'estimator__C': 100, 'estimator__dual': False...</td>\n",
       "      <td>0.525614</td>\n",
       "      <td>...</td>\n",
       "      <td>0.525274</td>\n",
       "      <td>0.001384</td>\n",
       "      <td>1</td>\n",
       "      <td>0.543155</td>\n",
       "      <td>0.542944</td>\n",
       "      <td>0.542777</td>\n",
       "      <td>0.544172</td>\n",
       "      <td>0.543198</td>\n",
       "      <td>0.543249</td>\n",
       "      <td>0.000486</td>\n",
       "    </tr>\n",
       "  </tbody>\n",
       "</table>\n",
       "<p>1 rows × 24 columns</p>\n",
       "</div>"
      ],
      "text/plain": [
       "   mean_fit_time  std_fit_time  mean_score_time  std_score_time  \\\n",
       "0    2664.185185     10.264316          1.23594        0.028223   \n",
       "\n",
       "  param_estimator__C param_estimator__dual param_estimator__penalty  \\\n",
       "0                100                 False                       l1   \n",
       "\n",
       "  param_estimator__solver                                             params  \\\n",
       "0               liblinear  {'estimator__C': 100, 'estimator__dual': False...   \n",
       "\n",
       "   split0_test_score  ...  mean_test_score  std_test_score  rank_test_score  \\\n",
       "0           0.525614  ...         0.525274        0.001384                1   \n",
       "\n",
       "   split0_train_score  split1_train_score  split2_train_score  \\\n",
       "0            0.543155            0.542944            0.542777   \n",
       "\n",
       "   split3_train_score  split4_train_score  mean_train_score  std_train_score  \n",
       "0            0.544172            0.543198          0.543249         0.000486  \n",
       "\n",
       "[1 rows x 24 columns]"
      ]
     },
     "execution_count": 10,
     "metadata": {},
     "output_type": "execute_result"
    }
   ],
   "source": [
    "lr_cv_results[lr_cv_results[\"params\"]==lr_best_params]\n"
   ]
  },
  {
   "cell_type": "code",
   "execution_count": 11,
   "id": "bdf700ba-eec8-419c-88d7-cfb2eef2535c",
   "metadata": {},
   "outputs": [
    {
     "name": "stdout",
     "output_type": "stream",
     "text": [
      "--------------------------------------------------\n",
      "Print 5 first predicted Tags vs true Tags\n",
      "--------------------------------------------------\n",
      "Predicted: [('c++',), (), ('mysql',), ('php',), ('python',)]\n",
      "True: [('c++',), ('.net', 'c#'), ('mysql',), ('php',), ('python',)]\n"
     ]
    }
   ],
   "source": [
    "# Predict\n",
    "y_test_predicted_labels_tfidf = multiclass_lr_cv.predict(X_test)\n",
    "\n",
    "# Inverse transform\n",
    "y_test_pred_inversed = multilabel_binarizer.inverse_transform(y_test_predicted_labels_tfidf)\n",
    "y_test_inversed = multilabel_binarizer.inverse_transform(y_test)\n",
    "\n",
    "print(\"-\"*50)\n",
    "print(\"Print 5 first predicted Tags vs true Tags\")\n",
    "print(\"-\" * 50)\n",
    "print(\"Predicted:\", y_test_pred_inversed[0:5])\n",
    "print(\"True:\", y_test_inversed[0:5])"
   ]
  },
  {
   "cell_type": "code",
   "execution_count": 12,
   "id": "9bc41807-0d0c-44d5-9b47-9b7531ef67cb",
   "metadata": {},
   "outputs": [
    {
     "data": {
      "text/html": [
       "<div>\n",
       "<style scoped>\n",
       "    .dataframe tbody tr th:only-of-type {\n",
       "        vertical-align: middle;\n",
       "    }\n",
       "\n",
       "    .dataframe tbody tr th {\n",
       "        vertical-align: top;\n",
       "    }\n",
       "\n",
       "    .dataframe thead th {\n",
       "        text-align: right;\n",
       "    }\n",
       "</style>\n",
       "<table border=\"1\" class=\"dataframe\">\n",
       "  <thead>\n",
       "    <tr style=\"text-align: right;\">\n",
       "      <th></th>\n",
       "      <th>Logit</th>\n",
       "    </tr>\n",
       "  </thead>\n",
       "  <tbody>\n",
       "    <tr>\n",
       "      <th>Accuracy</th>\n",
       "      <td>0.255276</td>\n",
       "    </tr>\n",
       "    <tr>\n",
       "      <th>F1</th>\n",
       "      <td>0.587398</td>\n",
       "    </tr>\n",
       "    <tr>\n",
       "      <th>Jaccard</th>\n",
       "      <td>0.377973</td>\n",
       "    </tr>\n",
       "    <tr>\n",
       "      <th>Recall</th>\n",
       "      <td>0.423507</td>\n",
       "    </tr>\n",
       "    <tr>\n",
       "      <th>Precision</th>\n",
       "      <td>0.724488</td>\n",
       "    </tr>\n",
       "  </tbody>\n",
       "</table>\n",
       "</div>"
      ],
      "text/plain": [
       "              Logit\n",
       "Accuracy   0.255276\n",
       "F1         0.587398\n",
       "Jaccard    0.377973\n",
       "Recall     0.423507\n",
       "Precision  0.724488"
      ]
     },
     "execution_count": 12,
     "metadata": {},
     "output_type": "execute_result"
    }
   ],
   "source": [
    "df_metrics_compare = metrics_score(\"Logit\", \n",
    "                                   df=None, \n",
    "                                   y_true = y_test,\n",
    "                                   y_pred = y_test_predicted_labels_tfidf)\n",
    "df_metrics_compare"
   ]
  },
  {
   "cell_type": "code",
   "execution_count": 26,
   "id": "38a171be-3001-49ee-a2f0-2e8c97f4f1d3",
   "metadata": {},
   "outputs": [
    {
     "name": "stdout",
     "output_type": "stream",
     "text": [
      "/Users/tatia/Developer/tag-generator/core//models/2024-01-02/19\n"
     ]
    },
    {
     "data": {
      "text/plain": [
       "['/Users/tatia/Developer/tag-generator/core//models/2024-01-02/19/193120_final_so_questions_2008_2023_multilabel_binarizer.pkl']"
      ]
     },
     "execution_count": 26,
     "metadata": {},
     "output_type": "execute_result"
    }
   ],
   "source": [
    "from pathlib import Path\n",
    "prefix = \"/Users/tatia/Developer/tag-generator/core/\"\n",
    "#date = \"2024-01-02/19\"\n",
    "#time_str= \"193120\"\n",
    "hr = time_str[0:2]\n",
    "output_model_dir = f\"{prefix}/models/{date}\"\n",
    "\n",
    "print(output_model_dir)\n",
    "\n",
    "Path(output_model_dir).mkdir(parents=True, exist_ok=True)\n",
    "data_file_name = Path(data_file_name).stem\n",
    "joblib.dump(multiclass_lr_cv,f\"{output_model_dir}/{data_file_name}_logit_nlp_model.pkl\")\n",
    "joblib.dump(vectorizer,f\"{output_model_dir}/{data_file_name}_tfidf_vectorizer.pkl\")\n",
    "joblib.dump(multilabel_binarizer,f\"{output_model_dir}/{data_file_name}_multilabel_binarizer.pkl\")"
   ]
  },
  {
   "cell_type": "code",
   "execution_count": null,
   "id": "17ca9c4e-623e-44fa-a2d8-0bb5a2bd390f",
   "metadata": {},
   "outputs": [],
   "source": [
    "version = \"1.0.0\"\n",
    "artifacts = {\n",
    "    \"model\": multiclass_lr_cv,\n",
    "    \"binarizer\": multilabel_binarizer,\n",
    "    \"vectorizer\": vectorizer,\n",
    "    \"metadata\" : {\n",
    "        \"name\": \"OvR Logistic Regression\",\n",
    "        \"version\": version,\n",
    "        \"description\": \"One-vs-the-rest (OvR) multiclass Logistic Regression classifier.\",\n",
    "        \"training_data\": \"2024-01-02, 19:31:20'\"\n",
    "    }\n",
    "}\n",
    "joblib.dump(artifacts, f\"{output_model_dir}/{data_file_name}artifacts_{version}.pkl\")"
   ]
  }
 ],
 "metadata": {
  "kernelspec": {
   "display_name": "Python 3 (ipykernel)",
   "language": "python",
   "name": "python3"
  },
  "language_info": {
   "codemirror_mode": {
    "name": "ipython",
    "version": 3
   },
   "file_extension": ".py",
   "mimetype": "text/x-python",
   "name": "python",
   "nbconvert_exporter": "python",
   "pygments_lexer": "ipython3",
   "version": "3.12.0"
  }
 },
 "nbformat": 4,
 "nbformat_minor": 5
}
