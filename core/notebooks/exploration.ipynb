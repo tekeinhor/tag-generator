{
 "cells": [
  {
   "cell_type": "code",
   "execution_count": 1,
   "id": "1cd163fc-58a2-4ab0-96c9-4a71a33e5208",
   "metadata": {},
   "outputs": [
    {
     "name": "stderr",
     "output_type": "stream",
     "text": [
      "[nltk_data] Downloading package punkt to /Users/tatia/nltk_data...\n",
      "[nltk_data]   Package punkt is already up-to-date!\n",
      "[nltk_data] Downloading package stopwords to /Users/tatia/nltk_data...\n",
      "[nltk_data]   Package stopwords is already up-to-date!\n",
      "[nltk_data] Downloading package wordnet to /Users/tatia/nltk_data...\n",
      "[nltk_data]   Package wordnet is already up-to-date!\n"
     ]
    }
   ],
   "source": [
    "%load_ext autoreload\n",
    "%autoreload 2\n",
    "\n",
    "import sys\n",
    "import glob\n",
    "from datetime import datetime\n",
    "import re\n",
    "from pathlib import Path\n",
    "import xml.etree.ElementTree as ET\n",
    "import time\n",
    "\n",
    "import pandas as pd\n",
    "from yaspin import yaspin\n",
    "import matplotlib.pyplot as plt\n",
    "import seaborn as sns\n",
    "from tqdm.auto import tqdm\n",
    "\n",
    "sys.path.append('..')\n",
    "sys.path.append('../../libs/tools/')\n",
    "from tag_generator.tag_generator import preprocessing, feature_pipeline"
   ]
  },
  {
   "cell_type": "code",
   "execution_count": 2,
   "id": "aac8fe8e-a4b1-434a-a375-e89dd84c627e",
   "metadata": {},
   "outputs": [],
   "source": [
    "today = datetime.now()\n",
    "time = today.strftime(\"%H%M%S\")\n",
    "\n",
    "prefix = \"/Users/tatia/Developer/tag-generator/core/data/{stage}\""
   ]
  },
  {
   "cell_type": "markdown",
   "id": "2b634d6f-e2f4-4af4-8bf7-2c15afd11609",
   "metadata": {},
   "source": [
    "# Data cleaning for tag generation on StackOverflow Questions\n",
    "\n",
    "So let's start with reading the file. We ve got one big file that can't be hold in the memory. SO we will cut it down in chunk.\n",
    "\n",
    "## Extract"
   ]
  },
  {
   "cell_type": "code",
   "execution_count": 3,
   "id": "8c01005d-705f-46b4-960c-b02a126186ed",
   "metadata": {},
   "outputs": [
    {
     "name": "stdout",
     "output_type": "stream",
     "text": [
      "/Users/tatia/Developer/data/stackoverflow/chunk\n",
      "/Users/tatia/Developer/data/stackoverflow/chunk/Posts_{:07d}.xml\n"
     ]
    }
   ],
   "source": [
    "input_xml_file_path = \"/Users/tatia/Developer/data/stackoverflow/Posts.xml\"\n",
    "#input_xml_file_path = \"/Users/tatia/Developer/test/sample.xml\"\n",
    "path = Path(input_xml_file_path)\n",
    "output_xml_dir = path.parent.absolute()/\"chunk\"\n",
    "print(output_xml_dir)\n",
    "file_name = str(path.stem)+\"_{:07d}.xml\"\n",
    "\n",
    "Path(output_xml_dir).mkdir(parents=True, exist_ok=True)\n",
    "output_xml_file = str(Path(output_xml_dir/file_name))\n",
    "print(output_xml_file)\n",
    "\n",
    "\n",
    "start = '<?xml version=\"1.0\" encoding=\"utf-8\"?>'\n",
    "opening = '<posts>'\n",
    "closing = '</posts>'\n",
    "\n",
    "def create_chunk(size: int, output_xml_file: str, start:str = start, opening:str = opening, closing:str = closing):\n",
    "    new_file = open(output_xml_file.format(0), 'wt')\n",
    "    with yaspin(text=\"Loading\") as spinner:\n",
    "        with open(input_xml_file_path, 'r') as f_xml:\n",
    "            i = 0\n",
    "            k = 0\n",
    "            for line in f_xml:\n",
    "                if closing in line:\n",
    "                    spinner.ok(\"✅\")\n",
    "                    new_file.write(line)\n",
    "                    new_file.close()\n",
    "                    print(f\"{k} total file\")\n",
    "                    break\n",
    "                if i < size:\n",
    "                    #elmt = parser.feed(line)\n",
    "                    elmt = ET.Element(line)\n",
    "                    new_file.write(line)\n",
    "                    i = i + 1\n",
    "                elif i == size:\n",
    "                    new_file.write(line)\n",
    "                    new_file.write(closing)\n",
    "                    new_file.close()\n",
    "                    i = 0\n",
    "                    k = k + 1\n",
    "                    new_file = open(output_xml_file.format(k), 'wt')\n",
    "                    new_file.write(start)\n",
    "                    new_file.write(\"\\n\")\n",
    "                    new_file.write(opening)\n",
    "                    new_file.write(\"\\n\")\n",
    "                    spinner.text = f\"next chunk {k}\"\n",
    "  \n",
    "    spinner.ok(\"✅\")"
   ]
  },
  {
   "cell_type": "code",
   "execution_count": 4,
   "id": "12dad03d-e287-47d1-a623-ef661a8e3e64",
   "metadata": {},
   "outputs": [],
   "source": [
    "# size = 5000\n",
    "# try:\n",
    "#     if DATA_IS_LOADED:\n",
    "#         print(\"tada\")\n",
    "# except NameError as ne:\n",
    "#     create_chunk(size, output_xml_file)\n",
    "# DATA_IS_LOADED = True"
   ]
  },
  {
   "cell_type": "code",
   "execution_count": 5,
   "id": "fff6d8d5-407f-4f8e-906d-6d56aca1b231",
   "metadata": {},
   "outputs": [],
   "source": [
    "step = 25"
   ]
  },
  {
   "cell_type": "code",
   "execution_count": 6,
   "id": "38e65a6a-426a-4f3f-929c-e28e70752002",
   "metadata": {},
   "outputs": [
    {
     "name": "stdout",
     "output_type": "stream",
     "text": [
      "/Users/tatia/Developer/data/stackoverflow/chunk/Posts_0000000.xml\n",
      "/Users/tatia/Developer/data/stackoverflow/chunk/Posts_0000025.xml\n",
      "/Users/tatia/Developer/data/stackoverflow/chunk/Posts_0000050.xml\n",
      "/Users/tatia/Developer/data/stackoverflow/chunk/Posts_0000075.xml\n",
      "/Users/tatia/Developer/data/stackoverflow/chunk/Posts_0000100.xml\n",
      "/Users/tatia/Developer/data/stackoverflow/chunk/Posts_0000125.xml\n",
      "/Users/tatia/Developer/data/stackoverflow/chunk/Posts_0000150.xml\n",
      "/Users/tatia/Developer/data/stackoverflow/chunk/Posts_0000175.xml\n",
      "/Users/tatia/Developer/data/stackoverflow/chunk/Posts_0000200.xml\n",
      "/Users/tatia/Developer/data/stackoverflow/chunk/Posts_0000225.xml\n",
      "/Users/tatia/Developer/data/stackoverflow/chunk/Posts_0000250.xml\n",
      "/Users/tatia/Developer/data/stackoverflow/chunk/Posts_0000275.xml\n",
      "/Users/tatia/Developer/data/stackoverflow/chunk/Posts_0000300.xml\n",
      "/Users/tatia/Developer/data/stackoverflow/chunk/Posts_0000325.xml\n",
      "/Users/tatia/Developer/data/stackoverflow/chunk/Posts_0000350.xml\n",
      "/Users/tatia/Developer/data/stackoverflow/chunk/Posts_0000375.xml\n",
      "/Users/tatia/Developer/data/stackoverflow/chunk/Posts_0000400.xml\n",
      "/Users/tatia/Developer/data/stackoverflow/chunk/Posts_0000425.xml\n",
      "/Users/tatia/Developer/data/stackoverflow/chunk/Posts_0000450.xml\n",
      "/Users/tatia/Developer/data/stackoverflow/chunk/Posts_0000475.xml\n",
      "/Users/tatia/Developer/data/stackoverflow/chunk/Posts_0000500.xml\n",
      "/Users/tatia/Developer/data/stackoverflow/chunk/Posts_0000525.xml\n",
      "/Users/tatia/Developer/data/stackoverflow/chunk/Posts_0000550.xml\n",
      "/Users/tatia/Developer/data/stackoverflow/chunk/Posts_0000575.xml\n",
      "/Users/tatia/Developer/data/stackoverflow/chunk/Posts_0000600.xml\n",
      "/Users/tatia/Developer/data/stackoverflow/chunk/Posts_0000625.xml\n",
      "/Users/tatia/Developer/data/stackoverflow/chunk/Posts_0000650.xml\n",
      "/Users/tatia/Developer/data/stackoverflow/chunk/Posts_0000675.xml\n",
      "/Users/tatia/Developer/data/stackoverflow/chunk/Posts_0000700.xml\n",
      "/Users/tatia/Developer/data/stackoverflow/chunk/Posts_0000725.xml\n",
      "/Users/tatia/Developer/data/stackoverflow/chunk/Posts_0000750.xml\n",
      "/Users/tatia/Developer/data/stackoverflow/chunk/Posts_0000775.xml\n",
      "/Users/tatia/Developer/data/stackoverflow/chunk/Posts_0000800.xml\n",
      "/Users/tatia/Developer/data/stackoverflow/chunk/Posts_0000825.xml\n",
      "/Users/tatia/Developer/data/stackoverflow/chunk/Posts_0000850.xml\n",
      "/Users/tatia/Developer/data/stackoverflow/chunk/Posts_0000875.xml\n",
      "/Users/tatia/Developer/data/stackoverflow/chunk/Posts_0000900.xml\n",
      "/Users/tatia/Developer/data/stackoverflow/chunk/Posts_0000925.xml\n",
      "/Users/tatia/Developer/data/stackoverflow/chunk/Posts_0000950.xml\n",
      "/Users/tatia/Developer/data/stackoverflow/chunk/Posts_0000975.xml\n",
      "/Users/tatia/Developer/data/stackoverflow/chunk/Posts_0001000.xml\n",
      "/Users/tatia/Developer/data/stackoverflow/chunk/Posts_0001025.xml\n",
      "/Users/tatia/Developer/data/stackoverflow/chunk/Posts_0001050.xml\n",
      "/Users/tatia/Developer/data/stackoverflow/chunk/Posts_0001075.xml\n",
      "/Users/tatia/Developer/data/stackoverflow/chunk/Posts_0001100.xml\n",
      "/Users/tatia/Developer/data/stackoverflow/chunk/Posts_0001125.xml\n",
      "/Users/tatia/Developer/data/stackoverflow/chunk/Posts_0001150.xml\n",
      "/Users/tatia/Developer/data/stackoverflow/chunk/Posts_0001175.xml\n",
      "/Users/tatia/Developer/data/stackoverflow/chunk/Posts_0001200.xml\n",
      "/Users/tatia/Developer/data/stackoverflow/chunk/Posts_0001225.xml\n",
      "/Users/tatia/Developer/data/stackoverflow/chunk/Posts_0001250.xml\n",
      "/Users/tatia/Developer/data/stackoverflow/chunk/Posts_0001275.xml\n",
      "/Users/tatia/Developer/data/stackoverflow/chunk/Posts_0001300.xml\n",
      "/Users/tatia/Developer/data/stackoverflow/chunk/Posts_0001325.xml\n",
      "/Users/tatia/Developer/data/stackoverflow/chunk/Posts_0001350.xml\n",
      "/Users/tatia/Developer/data/stackoverflow/chunk/Posts_0001375.xml\n",
      "/Users/tatia/Developer/data/stackoverflow/chunk/Posts_0001400.xml\n",
      "/Users/tatia/Developer/data/stackoverflow/chunk/Posts_0001425.xml\n",
      "/Users/tatia/Developer/data/stackoverflow/chunk/Posts_0001450.xml\n",
      "/Users/tatia/Developer/data/stackoverflow/chunk/Posts_0001475.xml\n",
      "/Users/tatia/Developer/data/stackoverflow/chunk/Posts_0001500.xml\n",
      "/Users/tatia/Developer/data/stackoverflow/chunk/Posts_0001525.xml\n",
      "/Users/tatia/Developer/data/stackoverflow/chunk/Posts_0001550.xml\n",
      "/Users/tatia/Developer/data/stackoverflow/chunk/Posts_0001575.xml\n",
      "/Users/tatia/Developer/data/stackoverflow/chunk/Posts_0001600.xml\n",
      "/Users/tatia/Developer/data/stackoverflow/chunk/Posts_0001625.xml\n",
      "/Users/tatia/Developer/data/stackoverflow/chunk/Posts_0001650.xml\n",
      "/Users/tatia/Developer/data/stackoverflow/chunk/Posts_0001675.xml\n",
      "/Users/tatia/Developer/data/stackoverflow/chunk/Posts_0001700.xml\n",
      "/Users/tatia/Developer/data/stackoverflow/chunk/Posts_0001725.xml\n",
      "/Users/tatia/Developer/data/stackoverflow/chunk/Posts_0001750.xml\n",
      "/Users/tatia/Developer/data/stackoverflow/chunk/Posts_0001775.xml\n",
      "/Users/tatia/Developer/data/stackoverflow/chunk/Posts_0001800.xml\n",
      "/Users/tatia/Developer/data/stackoverflow/chunk/Posts_0001825.xml\n",
      "/Users/tatia/Developer/data/stackoverflow/chunk/Posts_0001850.xml\n",
      "/Users/tatia/Developer/data/stackoverflow/chunk/Posts_0001875.xml\n",
      "/Users/tatia/Developer/data/stackoverflow/chunk/Posts_0001900.xml\n",
      "/Users/tatia/Developer/data/stackoverflow/chunk/Posts_0001925.xml\n",
      "/Users/tatia/Developer/data/stackoverflow/chunk/Posts_0001950.xml\n",
      "/Users/tatia/Developer/data/stackoverflow/chunk/Posts_0001975.xml\n",
      "/Users/tatia/Developer/data/stackoverflow/chunk/Posts_0002000.xml\n",
      "/Users/tatia/Developer/data/stackoverflow/chunk/Posts_0002025.xml\n",
      "/Users/tatia/Developer/data/stackoverflow/chunk/Posts_0002050.xml\n",
      "/Users/tatia/Developer/data/stackoverflow/chunk/Posts_0002075.xml\n",
      "/Users/tatia/Developer/data/stackoverflow/chunk/Posts_0002100.xml\n",
      "/Users/tatia/Developer/data/stackoverflow/chunk/Posts_0002125.xml\n",
      "/Users/tatia/Developer/data/stackoverflow/chunk/Posts_0002150.xml\n",
      "/Users/tatia/Developer/data/stackoverflow/chunk/Posts_0002175.xml\n",
      "/Users/tatia/Developer/data/stackoverflow/chunk/Posts_0002200.xml\n",
      "/Users/tatia/Developer/data/stackoverflow/chunk/Posts_0002225.xml\n",
      "/Users/tatia/Developer/data/stackoverflow/chunk/Posts_0002250.xml\n",
      "/Users/tatia/Developer/data/stackoverflow/chunk/Posts_0002275.xml\n",
      "/Users/tatia/Developer/data/stackoverflow/chunk/Posts_0002300.xml\n",
      "/Users/tatia/Developer/data/stackoverflow/chunk/Posts_0002325.xml\n",
      "/Users/tatia/Developer/data/stackoverflow/chunk/Posts_0002350.xml\n",
      "/Users/tatia/Developer/data/stackoverflow/chunk/Posts_0002375.xml\n",
      "/Users/tatia/Developer/data/stackoverflow/chunk/Posts_0002400.xml\n",
      "/Users/tatia/Developer/data/stackoverflow/chunk/Posts_0002425.xml\n",
      "/Users/tatia/Developer/data/stackoverflow/chunk/Posts_0002450.xml\n",
      "/Users/tatia/Developer/data/stackoverflow/chunk/Posts_0002475.xml\n",
      "/Users/tatia/Developer/data/stackoverflow/chunk/Posts_0002500.xml\n",
      "/Users/tatia/Developer/data/stackoverflow/chunk/Posts_0002525.xml\n",
      "/Users/tatia/Developer/data/stackoverflow/chunk/Posts_0002550.xml\n",
      "/Users/tatia/Developer/data/stackoverflow/chunk/Posts_0002575.xml\n",
      "/Users/tatia/Developer/data/stackoverflow/chunk/Posts_0002600.xml\n",
      "/Users/tatia/Developer/data/stackoverflow/chunk/Posts_0002625.xml\n",
      "/Users/tatia/Developer/data/stackoverflow/chunk/Posts_0002650.xml\n",
      "/Users/tatia/Developer/data/stackoverflow/chunk/Posts_0002675.xml\n",
      "/Users/tatia/Developer/data/stackoverflow/chunk/Posts_0002700.xml\n",
      "/Users/tatia/Developer/data/stackoverflow/chunk/Posts_0002725.xml\n",
      "/Users/tatia/Developer/data/stackoverflow/chunk/Posts_0002750.xml\n",
      "/Users/tatia/Developer/data/stackoverflow/chunk/Posts_0002775.xml\n",
      "/Users/tatia/Developer/data/stackoverflow/chunk/Posts_0002800.xml\n",
      "/Users/tatia/Developer/data/stackoverflow/chunk/Posts_0002825.xml\n",
      "/Users/tatia/Developer/data/stackoverflow/chunk/Posts_0002850.xml\n",
      "/Users/tatia/Developer/data/stackoverflow/chunk/Posts_0002875.xml\n",
      "/Users/tatia/Developer/data/stackoverflow/chunk/Posts_0002900.xml\n",
      "/Users/tatia/Developer/data/stackoverflow/chunk/Posts_0002925.xml\n",
      "/Users/tatia/Developer/data/stackoverflow/chunk/Posts_0002950.xml\n",
      "/Users/tatia/Developer/data/stackoverflow/chunk/Posts_0002975.xml\n",
      "/Users/tatia/Developer/data/stackoverflow/chunk/Posts_0003000.xml\n",
      "/Users/tatia/Developer/data/stackoverflow/chunk/Posts_0003025.xml\n",
      "/Users/tatia/Developer/data/stackoverflow/chunk/Posts_0003050.xml\n",
      "/Users/tatia/Developer/data/stackoverflow/chunk/Posts_0003075.xml\n",
      "/Users/tatia/Developer/data/stackoverflow/chunk/Posts_0003100.xml\n",
      "/Users/tatia/Developer/data/stackoverflow/chunk/Posts_0003125.xml\n",
      "/Users/tatia/Developer/data/stackoverflow/chunk/Posts_0003150.xml\n",
      "/Users/tatia/Developer/data/stackoverflow/chunk/Posts_0003175.xml\n",
      "/Users/tatia/Developer/data/stackoverflow/chunk/Posts_0003200.xml\n",
      "/Users/tatia/Developer/data/stackoverflow/chunk/Posts_0003225.xml\n",
      "/Users/tatia/Developer/data/stackoverflow/chunk/Posts_0003250.xml\n",
      "/Users/tatia/Developer/data/stackoverflow/chunk/Posts_0003275.xml\n",
      "/Users/tatia/Developer/data/stackoverflow/chunk/Posts_0003300.xml\n",
      "/Users/tatia/Developer/data/stackoverflow/chunk/Posts_0003325.xml\n",
      "/Users/tatia/Developer/data/stackoverflow/chunk/Posts_0003350.xml\n",
      "/Users/tatia/Developer/data/stackoverflow/chunk/Posts_0003375.xml\n",
      "/Users/tatia/Developer/data/stackoverflow/chunk/Posts_0003400.xml\n",
      "/Users/tatia/Developer/data/stackoverflow/chunk/Posts_0003425.xml\n",
      "/Users/tatia/Developer/data/stackoverflow/chunk/Posts_0003450.xml\n",
      "/Users/tatia/Developer/data/stackoverflow/chunk/Posts_0003475.xml\n",
      "/Users/tatia/Developer/data/stackoverflow/chunk/Posts_0003500.xml\n",
      "/Users/tatia/Developer/data/stackoverflow/chunk/Posts_0003525.xml\n",
      "/Users/tatia/Developer/data/stackoverflow/chunk/Posts_0003550.xml\n",
      "/Users/tatia/Developer/data/stackoverflow/chunk/Posts_0003575.xml\n",
      "/Users/tatia/Developer/data/stackoverflow/chunk/Posts_0003600.xml\n",
      "/Users/tatia/Developer/data/stackoverflow/chunk/Posts_0003625.xml\n",
      "/Users/tatia/Developer/data/stackoverflow/chunk/Posts_0003650.xml\n",
      "/Users/tatia/Developer/data/stackoverflow/chunk/Posts_0003675.xml\n",
      "/Users/tatia/Developer/data/stackoverflow/chunk/Posts_0003700.xml\n",
      "/Users/tatia/Developer/data/stackoverflow/chunk/Posts_0003725.xml\n",
      "/Users/tatia/Developer/data/stackoverflow/chunk/Posts_0003750.xml\n",
      "/Users/tatia/Developer/data/stackoverflow/chunk/Posts_0003775.xml\n",
      "/Users/tatia/Developer/data/stackoverflow/chunk/Posts_0003800.xml\n",
      "/Users/tatia/Developer/data/stackoverflow/chunk/Posts_0003825.xml\n",
      "/Users/tatia/Developer/data/stackoverflow/chunk/Posts_0003850.xml\n",
      "/Users/tatia/Developer/data/stackoverflow/chunk/Posts_0003875.xml\n",
      "/Users/tatia/Developer/data/stackoverflow/chunk/Posts_0003900.xml\n",
      "/Users/tatia/Developer/data/stackoverflow/chunk/Posts_0003925.xml\n",
      "/Users/tatia/Developer/data/stackoverflow/chunk/Posts_0003950.xml\n",
      "/Users/tatia/Developer/data/stackoverflow/chunk/Posts_0003975.xml\n",
      "/Users/tatia/Developer/data/stackoverflow/chunk/Posts_0004000.xml\n",
      "/Users/tatia/Developer/data/stackoverflow/chunk/Posts_0004025.xml\n",
      "/Users/tatia/Developer/data/stackoverflow/chunk/Posts_0004050.xml\n",
      "/Users/tatia/Developer/data/stackoverflow/chunk/Posts_0004075.xml\n",
      "/Users/tatia/Developer/data/stackoverflow/chunk/Posts_0004100.xml\n",
      "/Users/tatia/Developer/data/stackoverflow/chunk/Posts_0004125.xml\n",
      "/Users/tatia/Developer/data/stackoverflow/chunk/Posts_0004150.xml\n",
      "/Users/tatia/Developer/data/stackoverflow/chunk/Posts_0004175.xml\n",
      "/Users/tatia/Developer/data/stackoverflow/chunk/Posts_0004200.xml\n",
      "/Users/tatia/Developer/data/stackoverflow/chunk/Posts_0004225.xml\n",
      "/Users/tatia/Developer/data/stackoverflow/chunk/Posts_0004250.xml\n",
      "/Users/tatia/Developer/data/stackoverflow/chunk/Posts_0004275.xml\n",
      "/Users/tatia/Developer/data/stackoverflow/chunk/Posts_0004300.xml\n",
      "/Users/tatia/Developer/data/stackoverflow/chunk/Posts_0004325.xml\n",
      "/Users/tatia/Developer/data/stackoverflow/chunk/Posts_0004350.xml\n",
      "/Users/tatia/Developer/data/stackoverflow/chunk/Posts_0004375.xml\n",
      "/Users/tatia/Developer/data/stackoverflow/chunk/Posts_0004400.xml\n",
      "/Users/tatia/Developer/data/stackoverflow/chunk/Posts_0004425.xml\n",
      "/Users/tatia/Developer/data/stackoverflow/chunk/Posts_0004450.xml\n",
      "/Users/tatia/Developer/data/stackoverflow/chunk/Posts_0004475.xml\n",
      "/Users/tatia/Developer/data/stackoverflow/chunk/Posts_0004500.xml\n",
      "/Users/tatia/Developer/data/stackoverflow/chunk/Posts_0004525.xml\n",
      "/Users/tatia/Developer/data/stackoverflow/chunk/Posts_0004550.xml\n",
      "/Users/tatia/Developer/data/stackoverflow/chunk/Posts_0004575.xml\n",
      "/Users/tatia/Developer/data/stackoverflow/chunk/Posts_0004600.xml\n",
      "/Users/tatia/Developer/data/stackoverflow/chunk/Posts_0004625.xml\n",
      "/Users/tatia/Developer/data/stackoverflow/chunk/Posts_0004650.xml\n",
      "/Users/tatia/Developer/data/stackoverflow/chunk/Posts_0004675.xml\n",
      "/Users/tatia/Developer/data/stackoverflow/chunk/Posts_0004700.xml\n",
      "/Users/tatia/Developer/data/stackoverflow/chunk/Posts_0004725.xml\n",
      "/Users/tatia/Developer/data/stackoverflow/chunk/Posts_0004750.xml\n",
      "/Users/tatia/Developer/data/stackoverflow/chunk/Posts_0004775.xml\n",
      "/Users/tatia/Developer/data/stackoverflow/chunk/Posts_0004800.xml\n",
      "/Users/tatia/Developer/data/stackoverflow/chunk/Posts_0004825.xml\n",
      "/Users/tatia/Developer/data/stackoverflow/chunk/Posts_0004850.xml\n",
      "/Users/tatia/Developer/data/stackoverflow/chunk/Posts_0004875.xml\n",
      "/Users/tatia/Developer/data/stackoverflow/chunk/Posts_0004900.xml\n",
      "/Users/tatia/Developer/data/stackoverflow/chunk/Posts_0004925.xml\n",
      "/Users/tatia/Developer/data/stackoverflow/chunk/Posts_0004950.xml\n",
      "/Users/tatia/Developer/data/stackoverflow/chunk/Posts_0004975.xml\n",
      "/Users/tatia/Developer/data/stackoverflow/chunk/Posts_0005000.xml\n",
      "/Users/tatia/Developer/data/stackoverflow/chunk/Posts_0005025.xml\n",
      "/Users/tatia/Developer/data/stackoverflow/chunk/Posts_0005050.xml\n",
      "/Users/tatia/Developer/data/stackoverflow/chunk/Posts_0005075.xml\n",
      "/Users/tatia/Developer/data/stackoverflow/chunk/Posts_0005100.xml\n",
      "/Users/tatia/Developer/data/stackoverflow/chunk/Posts_0005125.xml\n",
      "/Users/tatia/Developer/data/stackoverflow/chunk/Posts_0005150.xml\n",
      "/Users/tatia/Developer/data/stackoverflow/chunk/Posts_0005175.xml\n",
      "/Users/tatia/Developer/data/stackoverflow/chunk/Posts_0005200.xml\n",
      "/Users/tatia/Developer/data/stackoverflow/chunk/Posts_0005225.xml\n",
      "/Users/tatia/Developer/data/stackoverflow/chunk/Posts_0005250.xml\n",
      "/Users/tatia/Developer/data/stackoverflow/chunk/Posts_0005275.xml\n",
      "/Users/tatia/Developer/data/stackoverflow/chunk/Posts_0005300.xml\n",
      "/Users/tatia/Developer/data/stackoverflow/chunk/Posts_0005325.xml\n",
      "/Users/tatia/Developer/data/stackoverflow/chunk/Posts_0005350.xml\n",
      "/Users/tatia/Developer/data/stackoverflow/chunk/Posts_0005375.xml\n",
      "/Users/tatia/Developer/data/stackoverflow/chunk/Posts_0005400.xml\n",
      "/Users/tatia/Developer/data/stackoverflow/chunk/Posts_0005425.xml\n",
      "/Users/tatia/Developer/data/stackoverflow/chunk/Posts_0005450.xml\n",
      "/Users/tatia/Developer/data/stackoverflow/chunk/Posts_0005475.xml\n",
      "/Users/tatia/Developer/data/stackoverflow/chunk/Posts_0005500.xml\n",
      "/Users/tatia/Developer/data/stackoverflow/chunk/Posts_0005525.xml\n",
      "/Users/tatia/Developer/data/stackoverflow/chunk/Posts_0005550.xml\n",
      "/Users/tatia/Developer/data/stackoverflow/chunk/Posts_0005575.xml\n",
      "/Users/tatia/Developer/data/stackoverflow/chunk/Posts_0005600.xml\n",
      "/Users/tatia/Developer/data/stackoverflow/chunk/Posts_0005625.xml\n",
      "/Users/tatia/Developer/data/stackoverflow/chunk/Posts_0005650.xml\n",
      "/Users/tatia/Developer/data/stackoverflow/chunk/Posts_0005675.xml\n",
      "/Users/tatia/Developer/data/stackoverflow/chunk/Posts_0005700.xml\n",
      "/Users/tatia/Developer/data/stackoverflow/chunk/Posts_0005725.xml\n",
      "/Users/tatia/Developer/data/stackoverflow/chunk/Posts_0005750.xml\n",
      "/Users/tatia/Developer/data/stackoverflow/chunk/Posts_0005775.xml\n",
      "/Users/tatia/Developer/data/stackoverflow/chunk/Posts_0005800.xml\n",
      "/Users/tatia/Developer/data/stackoverflow/chunk/Posts_0005825.xml\n",
      "/Users/tatia/Developer/data/stackoverflow/chunk/Posts_0005850.xml\n",
      "/Users/tatia/Developer/data/stackoverflow/chunk/Posts_0005875.xml\n",
      "/Users/tatia/Developer/data/stackoverflow/chunk/Posts_0005900.xml\n",
      "/Users/tatia/Developer/data/stackoverflow/chunk/Posts_0005925.xml\n",
      "/Users/tatia/Developer/data/stackoverflow/chunk/Posts_0005950.xml\n",
      "/Users/tatia/Developer/data/stackoverflow/chunk/Posts_0005975.xml\n",
      "/Users/tatia/Developer/data/stackoverflow/chunk/Posts_0006000.xml\n",
      "/Users/tatia/Developer/data/stackoverflow/chunk/Posts_0006025.xml\n",
      "/Users/tatia/Developer/data/stackoverflow/chunk/Posts_0006050.xml\n",
      "/Users/tatia/Developer/data/stackoverflow/chunk/Posts_0006075.xml\n",
      "/Users/tatia/Developer/data/stackoverflow/chunk/Posts_0006100.xml\n",
      "/Users/tatia/Developer/data/stackoverflow/chunk/Posts_0006125.xml\n",
      "/Users/tatia/Developer/data/stackoverflow/chunk/Posts_0006150.xml\n",
      "/Users/tatia/Developer/data/stackoverflow/chunk/Posts_0006175.xml\n",
      "/Users/tatia/Developer/data/stackoverflow/chunk/Posts_0006200.xml\n",
      "/Users/tatia/Developer/data/stackoverflow/chunk/Posts_0006225.xml\n",
      "/Users/tatia/Developer/data/stackoverflow/chunk/Posts_0006250.xml\n",
      "/Users/tatia/Developer/data/stackoverflow/chunk/Posts_0006275.xml\n",
      "/Users/tatia/Developer/data/stackoverflow/chunk/Posts_0006300.xml\n",
      "/Users/tatia/Developer/data/stackoverflow/chunk/Posts_0006325.xml\n",
      "/Users/tatia/Developer/data/stackoverflow/chunk/Posts_0006350.xml\n",
      "/Users/tatia/Developer/data/stackoverflow/chunk/Posts_0006375.xml\n",
      "/Users/tatia/Developer/data/stackoverflow/chunk/Posts_0006400.xml\n",
      "/Users/tatia/Developer/data/stackoverflow/chunk/Posts_0006425.xml\n",
      "/Users/tatia/Developer/data/stackoverflow/chunk/Posts_0006450.xml\n",
      "/Users/tatia/Developer/data/stackoverflow/chunk/Posts_0006475.xml\n",
      "/Users/tatia/Developer/data/stackoverflow/chunk/Posts_0006500.xml\n",
      "/Users/tatia/Developer/data/stackoverflow/chunk/Posts_0006525.xml\n",
      "/Users/tatia/Developer/data/stackoverflow/chunk/Posts_0006550.xml\n",
      "/Users/tatia/Developer/data/stackoverflow/chunk/Posts_0006575.xml\n",
      "/Users/tatia/Developer/data/stackoverflow/chunk/Posts_0006600.xml\n",
      "/Users/tatia/Developer/data/stackoverflow/chunk/Posts_0006625.xml\n",
      "/Users/tatia/Developer/data/stackoverflow/chunk/Posts_0006650.xml\n",
      "/Users/tatia/Developer/data/stackoverflow/chunk/Posts_0006675.xml\n",
      "/Users/tatia/Developer/data/stackoverflow/chunk/Posts_0006700.xml\n",
      "/Users/tatia/Developer/data/stackoverflow/chunk/Posts_0006725.xml\n",
      "/Users/tatia/Developer/data/stackoverflow/chunk/Posts_0006750.xml\n",
      "/Users/tatia/Developer/data/stackoverflow/chunk/Posts_0006775.xml\n",
      "/Users/tatia/Developer/data/stackoverflow/chunk/Posts_0006800.xml\n",
      "/Users/tatia/Developer/data/stackoverflow/chunk/Posts_0006825.xml\n",
      "/Users/tatia/Developer/data/stackoverflow/chunk/Posts_0006850.xml\n",
      "/Users/tatia/Developer/data/stackoverflow/chunk/Posts_0006875.xml\n",
      "/Users/tatia/Developer/data/stackoverflow/chunk/Posts_0006900.xml\n",
      "/Users/tatia/Developer/data/stackoverflow/chunk/Posts_0006925.xml\n",
      "/Users/tatia/Developer/data/stackoverflow/chunk/Posts_0006950.xml\n",
      "/Users/tatia/Developer/data/stackoverflow/chunk/Posts_0006975.xml\n",
      "/Users/tatia/Developer/data/stackoverflow/chunk/Posts_0007000.xml\n",
      "/Users/tatia/Developer/data/stackoverflow/chunk/Posts_0007025.xml\n",
      "/Users/tatia/Developer/data/stackoverflow/chunk/Posts_0007050.xml\n",
      "/Users/tatia/Developer/data/stackoverflow/chunk/Posts_0007075.xml\n",
      "/Users/tatia/Developer/data/stackoverflow/chunk/Posts_0007100.xml\n",
      "/Users/tatia/Developer/data/stackoverflow/chunk/Posts_0007125.xml\n",
      "/Users/tatia/Developer/data/stackoverflow/chunk/Posts_0007150.xml\n",
      "/Users/tatia/Developer/data/stackoverflow/chunk/Posts_0007175.xml\n",
      "/Users/tatia/Developer/data/stackoverflow/chunk/Posts_0007200.xml\n",
      "/Users/tatia/Developer/data/stackoverflow/chunk/Posts_0007225.xml\n",
      "/Users/tatia/Developer/data/stackoverflow/chunk/Posts_0007250.xml\n",
      "/Users/tatia/Developer/data/stackoverflow/chunk/Posts_0007275.xml\n",
      "/Users/tatia/Developer/data/stackoverflow/chunk/Posts_0007300.xml\n",
      "/Users/tatia/Developer/data/stackoverflow/chunk/Posts_0007325.xml\n",
      "/Users/tatia/Developer/data/stackoverflow/chunk/Posts_0007350.xml\n",
      "/Users/tatia/Developer/data/stackoverflow/chunk/Posts_0007375.xml\n",
      "/Users/tatia/Developer/data/stackoverflow/chunk/Posts_0007400.xml\n",
      "/Users/tatia/Developer/data/stackoverflow/chunk/Posts_0007425.xml\n",
      "/Users/tatia/Developer/data/stackoverflow/chunk/Posts_0007450.xml\n",
      "/Users/tatia/Developer/data/stackoverflow/chunk/Posts_0007475.xml\n",
      "/Users/tatia/Developer/data/stackoverflow/chunk/Posts_0007500.xml\n",
      "/Users/tatia/Developer/data/stackoverflow/chunk/Posts_0007525.xml\n",
      "/Users/tatia/Developer/data/stackoverflow/chunk/Posts_0007550.xml\n",
      "/Users/tatia/Developer/data/stackoverflow/chunk/Posts_0007575.xml\n",
      "/Users/tatia/Developer/data/stackoverflow/chunk/Posts_0007600.xml\n",
      "/Users/tatia/Developer/data/stackoverflow/chunk/Posts_0007625.xml\n",
      "/Users/tatia/Developer/data/stackoverflow/chunk/Posts_0007650.xml\n",
      "/Users/tatia/Developer/data/stackoverflow/chunk/Posts_0007675.xml\n",
      "/Users/tatia/Developer/data/stackoverflow/chunk/Posts_0007700.xml\n",
      "/Users/tatia/Developer/data/stackoverflow/chunk/Posts_0007725.xml\n",
      "/Users/tatia/Developer/data/stackoverflow/chunk/Posts_0007750.xml\n",
      "/Users/tatia/Developer/data/stackoverflow/chunk/Posts_0007775.xml\n",
      "/Users/tatia/Developer/data/stackoverflow/chunk/Posts_0007800.xml\n",
      "/Users/tatia/Developer/data/stackoverflow/chunk/Posts_0007825.xml\n",
      "/Users/tatia/Developer/data/stackoverflow/chunk/Posts_0007850.xml\n",
      "/Users/tatia/Developer/data/stackoverflow/chunk/Posts_0007875.xml\n",
      "/Users/tatia/Developer/data/stackoverflow/chunk/Posts_0007900.xml\n",
      "/Users/tatia/Developer/data/stackoverflow/chunk/Posts_0007925.xml\n",
      "/Users/tatia/Developer/data/stackoverflow/chunk/Posts_0007950.xml\n",
      "/Users/tatia/Developer/data/stackoverflow/chunk/Posts_0007975.xml\n",
      "/Users/tatia/Developer/data/stackoverflow/chunk/Posts_0008000.xml\n",
      "/Users/tatia/Developer/data/stackoverflow/chunk/Posts_0008025.xml\n",
      "/Users/tatia/Developer/data/stackoverflow/chunk/Posts_0008050.xml\n",
      "/Users/tatia/Developer/data/stackoverflow/chunk/Posts_0008075.xml\n",
      "/Users/tatia/Developer/data/stackoverflow/chunk/Posts_0008100.xml\n",
      "/Users/tatia/Developer/data/stackoverflow/chunk/Posts_0008125.xml\n",
      "/Users/tatia/Developer/data/stackoverflow/chunk/Posts_0008150.xml\n",
      "/Users/tatia/Developer/data/stackoverflow/chunk/Posts_0008175.xml\n",
      "/Users/tatia/Developer/data/stackoverflow/chunk/Posts_0008200.xml\n",
      "/Users/tatia/Developer/data/stackoverflow/chunk/Posts_0008225.xml\n",
      "/Users/tatia/Developer/data/stackoverflow/chunk/Posts_0008250.xml\n",
      "/Users/tatia/Developer/data/stackoverflow/chunk/Posts_0008275.xml\n",
      "/Users/tatia/Developer/data/stackoverflow/chunk/Posts_0008300.xml\n",
      "/Users/tatia/Developer/data/stackoverflow/chunk/Posts_0008325.xml\n",
      "/Users/tatia/Developer/data/stackoverflow/chunk/Posts_0008350.xml\n",
      "/Users/tatia/Developer/data/stackoverflow/chunk/Posts_0008375.xml\n",
      "/Users/tatia/Developer/data/stackoverflow/chunk/Posts_0008400.xml\n",
      "/Users/tatia/Developer/data/stackoverflow/chunk/Posts_0008425.xml\n",
      "/Users/tatia/Developer/data/stackoverflow/chunk/Posts_0008450.xml\n",
      "/Users/tatia/Developer/data/stackoverflow/chunk/Posts_0008475.xml\n",
      "/Users/tatia/Developer/data/stackoverflow/chunk/Posts_0008500.xml\n",
      "/Users/tatia/Developer/data/stackoverflow/chunk/Posts_0008525.xml\n",
      "/Users/tatia/Developer/data/stackoverflow/chunk/Posts_0008550.xml\n",
      "/Users/tatia/Developer/data/stackoverflow/chunk/Posts_0008575.xml\n",
      "/Users/tatia/Developer/data/stackoverflow/chunk/Posts_0008600.xml\n",
      "/Users/tatia/Developer/data/stackoverflow/chunk/Posts_0008625.xml\n",
      "/Users/tatia/Developer/data/stackoverflow/chunk/Posts_0008650.xml\n",
      "/Users/tatia/Developer/data/stackoverflow/chunk/Posts_0008675.xml\n",
      "/Users/tatia/Developer/data/stackoverflow/chunk/Posts_0008700.xml\n",
      "/Users/tatia/Developer/data/stackoverflow/chunk/Posts_0008725.xml\n",
      "/Users/tatia/Developer/data/stackoverflow/chunk/Posts_0008750.xml\n",
      "/Users/tatia/Developer/data/stackoverflow/chunk/Posts_0008775.xml\n",
      "/Users/tatia/Developer/data/stackoverflow/chunk/Posts_0008800.xml\n",
      "/Users/tatia/Developer/data/stackoverflow/chunk/Posts_0008825.xml\n",
      "/Users/tatia/Developer/data/stackoverflow/chunk/Posts_0008850.xml\n",
      "/Users/tatia/Developer/data/stackoverflow/chunk/Posts_0008875.xml\n",
      "/Users/tatia/Developer/data/stackoverflow/chunk/Posts_0008900.xml\n",
      "/Users/tatia/Developer/data/stackoverflow/chunk/Posts_0008925.xml\n",
      "/Users/tatia/Developer/data/stackoverflow/chunk/Posts_0008950.xml\n",
      "/Users/tatia/Developer/data/stackoverflow/chunk/Posts_0008975.xml\n",
      "/Users/tatia/Developer/data/stackoverflow/chunk/Posts_0009000.xml\n",
      "/Users/tatia/Developer/data/stackoverflow/chunk/Posts_0009025.xml\n",
      "/Users/tatia/Developer/data/stackoverflow/chunk/Posts_0009050.xml\n",
      "/Users/tatia/Developer/data/stackoverflow/chunk/Posts_0009075.xml\n",
      "/Users/tatia/Developer/data/stackoverflow/chunk/Posts_0009100.xml\n",
      "/Users/tatia/Developer/data/stackoverflow/chunk/Posts_0009125.xml\n",
      "/Users/tatia/Developer/data/stackoverflow/chunk/Posts_0009150.xml\n",
      "/Users/tatia/Developer/data/stackoverflow/chunk/Posts_0009175.xml\n",
      "/Users/tatia/Developer/data/stackoverflow/chunk/Posts_0009200.xml\n",
      "/Users/tatia/Developer/data/stackoverflow/chunk/Posts_0009225.xml\n",
      "/Users/tatia/Developer/data/stackoverflow/chunk/Posts_0009250.xml\n",
      "/Users/tatia/Developer/data/stackoverflow/chunk/Posts_0009275.xml\n",
      "/Users/tatia/Developer/data/stackoverflow/chunk/Posts_0009300.xml\n",
      "/Users/tatia/Developer/data/stackoverflow/chunk/Posts_0009325.xml\n",
      "/Users/tatia/Developer/data/stackoverflow/chunk/Posts_0009350.xml\n",
      "/Users/tatia/Developer/data/stackoverflow/chunk/Posts_0009375.xml\n",
      "/Users/tatia/Developer/data/stackoverflow/chunk/Posts_0009400.xml\n",
      "/Users/tatia/Developer/data/stackoverflow/chunk/Posts_0009425.xml\n",
      "/Users/tatia/Developer/data/stackoverflow/chunk/Posts_0009450.xml\n",
      "/Users/tatia/Developer/data/stackoverflow/chunk/Posts_0009475.xml\n",
      "/Users/tatia/Developer/data/stackoverflow/chunk/Posts_0009500.xml\n",
      "/Users/tatia/Developer/data/stackoverflow/chunk/Posts_0009525.xml\n",
      "/Users/tatia/Developer/data/stackoverflow/chunk/Posts_0009550.xml\n",
      "/Users/tatia/Developer/data/stackoverflow/chunk/Posts_0009575.xml\n",
      "/Users/tatia/Developer/data/stackoverflow/chunk/Posts_0009600.xml\n",
      "/Users/tatia/Developer/data/stackoverflow/chunk/Posts_0009625.xml\n",
      "/Users/tatia/Developer/data/stackoverflow/chunk/Posts_0009650.xml\n",
      "/Users/tatia/Developer/data/stackoverflow/chunk/Posts_0009675.xml\n",
      "/Users/tatia/Developer/data/stackoverflow/chunk/Posts_0009700.xml\n",
      "/Users/tatia/Developer/data/stackoverflow/chunk/Posts_0009725.xml\n",
      "/Users/tatia/Developer/data/stackoverflow/chunk/Posts_0009750.xml\n",
      "/Users/tatia/Developer/data/stackoverflow/chunk/Posts_0009775.xml\n",
      "/Users/tatia/Developer/data/stackoverflow/chunk/Posts_0009800.xml\n",
      "/Users/tatia/Developer/data/stackoverflow/chunk/Posts_0009825.xml\n",
      "/Users/tatia/Developer/data/stackoverflow/chunk/Posts_0009850.xml\n",
      "/Users/tatia/Developer/data/stackoverflow/chunk/Posts_0009875.xml\n",
      "/Users/tatia/Developer/data/stackoverflow/chunk/Posts_0009900.xml\n",
      "/Users/tatia/Developer/data/stackoverflow/chunk/Posts_0009925.xml\n",
      "/Users/tatia/Developer/data/stackoverflow/chunk/Posts_0009950.xml\n",
      "/Users/tatia/Developer/data/stackoverflow/chunk/Posts_0009975.xml\n",
      "/Users/tatia/Developer/data/stackoverflow/chunk/Posts_0010000.xml\n",
      "/Users/tatia/Developer/data/stackoverflow/chunk/Posts_0010025.xml\n",
      "/Users/tatia/Developer/data/stackoverflow/chunk/Posts_0010050.xml\n",
      "/Users/tatia/Developer/data/stackoverflow/chunk/Posts_0010075.xml\n",
      "/Users/tatia/Developer/data/stackoverflow/chunk/Posts_0010100.xml\n",
      "/Users/tatia/Developer/data/stackoverflow/chunk/Posts_0010125.xml\n",
      "/Users/tatia/Developer/data/stackoverflow/chunk/Posts_0010150.xml\n",
      "/Users/tatia/Developer/data/stackoverflow/chunk/Posts_0010175.xml\n",
      "/Users/tatia/Developer/data/stackoverflow/chunk/Posts_0010200.xml\n",
      "/Users/tatia/Developer/data/stackoverflow/chunk/Posts_0010225.xml\n",
      "/Users/tatia/Developer/data/stackoverflow/chunk/Posts_0010250.xml\n",
      "/Users/tatia/Developer/data/stackoverflow/chunk/Posts_0010275.xml\n",
      "/Users/tatia/Developer/data/stackoverflow/chunk/Posts_0010300.xml\n",
      "/Users/tatia/Developer/data/stackoverflow/chunk/Posts_0010325.xml\n",
      "/Users/tatia/Developer/data/stackoverflow/chunk/Posts_0010350.xml\n",
      "/Users/tatia/Developer/data/stackoverflow/chunk/Posts_0010375.xml\n",
      "/Users/tatia/Developer/data/stackoverflow/chunk/Posts_0010400.xml\n",
      "/Users/tatia/Developer/data/stackoverflow/chunk/Posts_0010425.xml\n",
      "/Users/tatia/Developer/data/stackoverflow/chunk/Posts_0010450.xml\n",
      "/Users/tatia/Developer/data/stackoverflow/chunk/Posts_0010475.xml\n",
      "/Users/tatia/Developer/data/stackoverflow/chunk/Posts_0010500.xml\n",
      "/Users/tatia/Developer/data/stackoverflow/chunk/Posts_0010525.xml\n",
      "/Users/tatia/Developer/data/stackoverflow/chunk/Posts_0010550.xml\n",
      "/Users/tatia/Developer/data/stackoverflow/chunk/Posts_0010575.xml\n",
      "/Users/tatia/Developer/data/stackoverflow/chunk/Posts_0010600.xml\n",
      "/Users/tatia/Developer/data/stackoverflow/chunk/Posts_0010625.xml\n",
      "/Users/tatia/Developer/data/stackoverflow/chunk/Posts_0010650.xml\n",
      "/Users/tatia/Developer/data/stackoverflow/chunk/Posts_0010675.xml\n",
      "/Users/tatia/Developer/data/stackoverflow/chunk/Posts_0010700.xml\n",
      "/Users/tatia/Developer/data/stackoverflow/chunk/Posts_0010725.xml\n",
      "/Users/tatia/Developer/data/stackoverflow/chunk/Posts_0010750.xml\n",
      "/Users/tatia/Developer/data/stackoverflow/chunk/Posts_0010775.xml\n",
      "/Users/tatia/Developer/data/stackoverflow/chunk/Posts_0010800.xml\n",
      "/Users/tatia/Developer/data/stackoverflow/chunk/Posts_0010825.xml\n",
      "/Users/tatia/Developer/data/stackoverflow/chunk/Posts_0010850.xml\n",
      "/Users/tatia/Developer/data/stackoverflow/chunk/Posts_0010875.xml\n",
      "/Users/tatia/Developer/data/stackoverflow/chunk/Posts_0010900.xml\n",
      "/Users/tatia/Developer/data/stackoverflow/chunk/Posts_0010925.xml\n",
      "/Users/tatia/Developer/data/stackoverflow/chunk/Posts_0010950.xml\n",
      "/Users/tatia/Developer/data/stackoverflow/chunk/Posts_0010975.xml\n",
      "/Users/tatia/Developer/data/stackoverflow/chunk/Posts_0011000.xml\n",
      "/Users/tatia/Developer/data/stackoverflow/chunk/Posts_0011025.xml\n",
      "/Users/tatia/Developer/data/stackoverflow/chunk/Posts_0011050.xml\n",
      "/Users/tatia/Developer/data/stackoverflow/chunk/Posts_0011075.xml\n",
      "/Users/tatia/Developer/data/stackoverflow/chunk/Posts_0011100.xml\n",
      "/Users/tatia/Developer/data/stackoverflow/chunk/Posts_0011125.xml\n",
      "/Users/tatia/Developer/data/stackoverflow/chunk/Posts_0011150.xml\n",
      "/Users/tatia/Developer/data/stackoverflow/chunk/Posts_0011175.xml\n",
      "/Users/tatia/Developer/data/stackoverflow/chunk/Posts_0011200.xml\n",
      "/Users/tatia/Developer/data/stackoverflow/chunk/Posts_0011225.xml\n",
      "/Users/tatia/Developer/data/stackoverflow/chunk/Posts_0011250.xml\n",
      "/Users/tatia/Developer/data/stackoverflow/chunk/Posts_0011275.xml\n",
      "/Users/tatia/Developer/data/stackoverflow/chunk/Posts_0011300.xml\n",
      "/Users/tatia/Developer/data/stackoverflow/chunk/Posts_0011325.xml\n",
      "/Users/tatia/Developer/data/stackoverflow/chunk/Posts_0011350.xml\n",
      "/Users/tatia/Developer/data/stackoverflow/chunk/Posts_0011375.xml\n",
      "/Users/tatia/Developer/data/stackoverflow/chunk/Posts_0011400.xml\n",
      "/Users/tatia/Developer/data/stackoverflow/chunk/Posts_0011425.xml\n",
      "/Users/tatia/Developer/data/stackoverflow/chunk/Posts_0011450.xml\n",
      "/Users/tatia/Developer/data/stackoverflow/chunk/Posts_0011475.xml\n",
      "/Users/tatia/Developer/data/stackoverflow/chunk/Posts_0011500.xml\n",
      "/Users/tatia/Developer/data/stackoverflow/chunk/Posts_0011525.xml\n",
      "/Users/tatia/Developer/data/stackoverflow/chunk/Posts_0011550.xml\n",
      "/Users/tatia/Developer/data/stackoverflow/chunk/Posts_0011575.xml\n",
      "/Users/tatia/Developer/data/stackoverflow/chunk/Posts_0011600.xml\n",
      "/Users/tatia/Developer/data/stackoverflow/chunk/Posts_0011625.xml\n",
      "/Users/tatia/Developer/data/stackoverflow/chunk/Posts_0011650.xml\n",
      "/Users/tatia/Developer/data/stackoverflow/chunk/Posts_0011675.xml\n",
      "/Users/tatia/Developer/data/stackoverflow/chunk/Posts_0011700.xml\n",
      "/Users/tatia/Developer/data/stackoverflow/chunk/Posts_0011725.xml\n",
      "/Users/tatia/Developer/data/stackoverflow/chunk/Posts_0011750.xml\n",
      "/Users/tatia/Developer/data/stackoverflow/chunk/Posts_0011775.xml\n",
      "/Users/tatia/Developer/data/stackoverflow/chunk/Posts_0011800.xml\n",
      "/Users/tatia/Developer/data/stackoverflow/chunk/Posts_0011825.xml\n",
      "/Users/tatia/Developer/data/stackoverflow/chunk/Posts_0011850.xml\n",
      "/Users/tatia/Developer/data/stackoverflow/chunk/Posts_0011875.xml\n"
     ]
    }
   ],
   "source": [
    "files = glob.glob(f\"{str(output_xml_dir)}/*.xml\")\n",
    "\n",
    "sorted_files = sorted(files)\n",
    "for i in sorted_files[0: len(sorted_files): step]:\n",
    "    print(i)"
   ]
  },
  {
   "cell_type": "code",
   "execution_count": 7,
   "id": "49d0c69e-63ac-4afa-a0a8-17fd0dc7495e",
   "metadata": {},
   "outputs": [
    {
     "name": "stdout",
     "output_type": "stream",
     "text": [
      "⠇ Posts_0007500 skipped\n",
      "⠴ Posts_0008600 skipped\n",
      "⠋ Posts_0009300 skipped\n",
      "⠴ Posts_0009375 skipped\n",
      "⠇ Posts_0009425 skipped\n",
      "⠙ Posts_0009600 skipped\n",
      "⠋ Posts_0009850 skipped\n",
      "⠙ Posts_0009875 skipped\n",
      "⠦ Posts_0009950 skipped\n",
      "⠙ Posts_0010025 skipped\n",
      "⠦ Posts_0010100 skipped\n",
      "⠧ Posts_0010125 skipped\n",
      "⠋ Posts_0010175 skipped\n",
      "⠸ Posts_0010225 skipped\n",
      "⠼ Posts_0010250 skipped\n",
      "⠦ Posts_0010275 skipped\n",
      "⠙ Posts_0010350 skipped\n",
      "⠹ Posts_0010375 skipped\n",
      "⠸ Posts_0010400 skipped\n",
      "⠦ Posts_0010450 skipped\n",
      "⠴ Posts_0010575 skipped\n",
      "⠦ Posts_0010600 skipped\n",
      "⠇ Posts_0010625 skipped\n",
      "⠏ Posts_0010650 skipped\n",
      "⠋ Posts_0010675 skipped\n",
      "⠴ Posts_0010750 skipped\n",
      "⠼ Posts_0010875 skipped\n",
      "⠴ Posts_0010900 skipped\n",
      "⠦ Posts_0010925 skipped\n",
      "⠋ Posts_0010975 skipped\n",
      "⠧ Posts_0011075 skipped\n",
      "⠇ Posts_0011100 skipped\n",
      "⠏ Posts_0011125 skipped\n",
      "⠋ Posts_0011150 skipped\n",
      "⠹ Posts_0011175 skipped\n",
      "⠸ Posts_0011200 skipped\n",
      "⠼ Posts_0011225 skipped\n",
      "⠙ Posts_0011325 skipped\n",
      "⠹ Posts_0011350 skipped\n",
      "⠸ Posts_0011375 skipped\n",
      "⠼ Posts_0011400 skipped\n",
      "                skipped\n",
      "⠧ Posts_0011450 skipped\n",
      "⠇ Posts_0011475 skipped\n",
      "⠙ Posts_0011525 skipped\n",
      "⠹ Posts_0011550 skipped\n",
      "⠦ Posts_0011600 skipped\n",
      "⠧ Posts_0011625 skipped\n",
      "⠇ Posts_0011650 skipped\n",
      "⠏ Posts_0011675 skipped\n",
      "⠙ Posts_0011700 skipped\n",
      "⠹ Posts_0011725 skipped\n",
      "⠸ Posts_0011750 skipped\n",
      "⠼ Posts_0011775 skipped\n",
      "⠦ Posts_0011800 skipped\n",
      "⠧ Posts_0011825 skipped\n",
      "⠇ Posts_0011850 skipped\n",
      "⠋ Posts_0011875 skipped\n",
      "✅ Posts_0011875 \n"
     ]
    }
   ],
   "source": [
    "import pandas as pd\n",
    "import glob\n",
    "from lxml.etree import XMLSyntaxError\n",
    "df_list = []\n",
    "\n",
    "files = glob.glob(f\"{str(output_xml_dir)}/*.xml\")\n",
    "sorted_files = sorted(files)\n",
    "\n",
    "\n",
    "with yaspin(text=\"Loading\") as spinner:\n",
    "    for file_name in sorted_files[0: len(sorted_files): step]:\n",
    "        path = Path(file_name)\n",
    "        spinner.text = str(path.stem)\n",
    "        try:\n",
    "            df = pd.read_xml(file_name)\n",
    "            df_list.append(df)\n",
    "        except XMLSyntaxError as xml_error:\n",
    "            print(f\"skipped\")\n",
    "    spinner.ok(\"✅\")\n",
    "\n",
    "pandas_df = pd.concat(df_list, axis=0, ignore_index=True)"
   ]
  },
  {
   "cell_type": "code",
   "execution_count": 8,
   "id": "f12e9465-aa59-4ffb-a76b-78459b707d26",
   "metadata": {},
   "outputs": [
    {
     "name": "stdout",
     "output_type": "stream",
     "text": [
      "<class 'pandas.core.frame.DataFrame'>\n",
      "RangeIndex: 2090416 entries, 0 to 2090415\n",
      "Data columns (total 22 columns):\n",
      " #   Column                 Dtype  \n",
      "---  ------                 -----  \n",
      " 0   Id                     int64  \n",
      " 1   PostTypeId             int64  \n",
      " 2   AcceptedAnswerId       float64\n",
      " 3   CreationDate           object \n",
      " 4   Score                  int64  \n",
      " 5   ViewCount              float64\n",
      " 6   Body                   object \n",
      " 7   OwnerUserId            float64\n",
      " 8   LastEditorUserId       float64\n",
      " 9   LastEditorDisplayName  object \n",
      " 10  LastEditDate           object \n",
      " 11  LastActivityDate       object \n",
      " 12  Title                  object \n",
      " 13  Tags                   object \n",
      " 14  AnswerCount            float64\n",
      " 15  CommentCount           int64  \n",
      " 16  FavoriteCount          float64\n",
      " 17  CommunityOwnedDate     object \n",
      " 18  ContentLicense         object \n",
      " 19  ParentId               float64\n",
      " 20  OwnerDisplayName       object \n",
      " 21  ClosedDate             object \n",
      "dtypes: float64(7), int64(4), object(11)\n",
      "memory usage: 350.9+ MB\n"
     ]
    }
   ],
   "source": [
    "pandas_df.info()\n"
   ]
  },
  {
   "cell_type": "code",
   "execution_count": 9,
   "id": "b8bdc0c6-f5d8-4fa0-9755-ef74101f8511",
   "metadata": {},
   "outputs": [
    {
     "data": {
      "text/plain": [
       "Tags\n",
       "True     1261377\n",
       "False     829039\n",
       "Name: count, dtype: int64"
      ]
     },
     "execution_count": 9,
     "metadata": {},
     "output_type": "execute_result"
    }
   ],
   "source": [
    "pandas_df['Tags'].isnull().value_counts()"
   ]
  },
  {
   "cell_type": "code",
   "execution_count": 10,
   "id": "6f82bae0-8ba0-44fb-a7c6-58e18bd6bd79",
   "metadata": {},
   "outputs": [
    {
     "name": "stdout",
     "output_type": "stream",
     "text": [
      "/Users/tatia/Developer/tag-generator/core/data/raw/2024-01-02/19\n",
      "193120_raw_so_questions_2008_2023.csv\n"
     ]
    }
   ],
   "source": [
    "staged_prefix = prefix.format(stage=\"raw\")\n",
    "output_dir = f\"{staged_prefix}/{today.strftime('%Y-%m-%d/%H')}\"\n",
    "print(output_dir)\n",
    "file_name = f\"{time}_raw_so_questions_2008_2023.csv\"\n",
    "print(file_name)\n",
    "Path(output_dir).mkdir(parents=True, exist_ok=True)\n",
    "pandas_df.to_csv(f\"{output_dir}/{file_name}\")#"
   ]
  },
  {
   "cell_type": "markdown",
   "id": "b2c8f85f-0205-4fb0-8d91-038fcd1d5142",
   "metadata": {},
   "source": [
    "## Data exploration\n"
   ]
  },
  {
   "cell_type": "code",
   "execution_count": 11,
   "id": "f64066c6-4a11-49da-8ee7-34defac429d7",
   "metadata": {},
   "outputs": [],
   "source": [
    "pandas_df[[\"CreationDate\", \"LastEditDate\", \"LastActivityDate\", \"ClosedDate\"]] = pandas_df[[\"CreationDate\", \"LastEditDate\", \"LastActivityDate\", \"ClosedDate\"]].apply(pd.to_datetime)\n"
   ]
  },
  {
   "cell_type": "code",
   "execution_count": 12,
   "id": "59c0cb2d-e092-4695-9936-87d955d33e9c",
   "metadata": {},
   "outputs": [
    {
     "data": {
      "text/html": [
       "<div>\n",
       "<style scoped>\n",
       "    .dataframe tbody tr th:only-of-type {\n",
       "        vertical-align: middle;\n",
       "    }\n",
       "\n",
       "    .dataframe tbody tr th {\n",
       "        vertical-align: top;\n",
       "    }\n",
       "\n",
       "    .dataframe thead th {\n",
       "        text-align: right;\n",
       "    }\n",
       "</style>\n",
       "<table border=\"1\" class=\"dataframe\">\n",
       "  <thead>\n",
       "    <tr style=\"text-align: right;\">\n",
       "      <th></th>\n",
       "      <th>Title</th>\n",
       "    </tr>\n",
       "    <tr>\n",
       "      <th>CreationDate</th>\n",
       "      <th></th>\n",
       "    </tr>\n",
       "  </thead>\n",
       "  <tbody>\n",
       "    <tr>\n",
       "      <th>2008-12-31</th>\n",
       "      <td>3320</td>\n",
       "    </tr>\n",
       "    <tr>\n",
       "      <th>2009-12-31</th>\n",
       "      <td>13460</td>\n",
       "    </tr>\n",
       "    <tr>\n",
       "      <th>2010-12-31</th>\n",
       "      <td>27193</td>\n",
       "    </tr>\n",
       "    <tr>\n",
       "      <th>2011-12-31</th>\n",
       "      <td>48181</td>\n",
       "    </tr>\n",
       "    <tr>\n",
       "      <th>2012-12-31</th>\n",
       "      <td>64017</td>\n",
       "    </tr>\n",
       "    <tr>\n",
       "      <th>2013-12-31</th>\n",
       "      <td>81221</td>\n",
       "    </tr>\n",
       "    <tr>\n",
       "      <th>2014-12-31</th>\n",
       "      <td>86357</td>\n",
       "    </tr>\n",
       "    <tr>\n",
       "      <th>2015-12-31</th>\n",
       "      <td>88269</td>\n",
       "    </tr>\n",
       "    <tr>\n",
       "      <th>2016-12-31</th>\n",
       "      <td>87712</td>\n",
       "    </tr>\n",
       "    <tr>\n",
       "      <th>2017-12-31</th>\n",
       "      <td>82060</td>\n",
       "    </tr>\n",
       "    <tr>\n",
       "      <th>2018-12-31</th>\n",
       "      <td>74232</td>\n",
       "    </tr>\n",
       "    <tr>\n",
       "      <th>2019-12-31</th>\n",
       "      <td>67618</td>\n",
       "    </tr>\n",
       "    <tr>\n",
       "      <th>2020-12-31</th>\n",
       "      <td>54310</td>\n",
       "    </tr>\n",
       "    <tr>\n",
       "      <th>2021-12-31</th>\n",
       "      <td>30989</td>\n",
       "    </tr>\n",
       "    <tr>\n",
       "      <th>2022-12-31</th>\n",
       "      <td>15210</td>\n",
       "    </tr>\n",
       "    <tr>\n",
       "      <th>2023-12-31</th>\n",
       "      <td>4911</td>\n",
       "    </tr>\n",
       "  </tbody>\n",
       "</table>\n",
       "</div>"
      ],
      "text/plain": [
       "              Title\n",
       "CreationDate       \n",
       "2008-12-31     3320\n",
       "2009-12-31    13460\n",
       "2010-12-31    27193\n",
       "2011-12-31    48181\n",
       "2012-12-31    64017\n",
       "2013-12-31    81221\n",
       "2014-12-31    86357\n",
       "2015-12-31    88269\n",
       "2016-12-31    87712\n",
       "2017-12-31    82060\n",
       "2018-12-31    74232\n",
       "2019-12-31    67618\n",
       "2020-12-31    54310\n",
       "2021-12-31    30989\n",
       "2022-12-31    15210\n",
       "2023-12-31     4911"
      ]
     },
     "execution_count": 12,
     "metadata": {},
     "output_type": "execute_result"
    }
   ],
   "source": [
    "import matplotlib.pyplot as plt\n",
    "import seaborn as sns\n",
    "#Grouper with 1 year delta\n",
    "post_year = pandas_df.groupby(pd.Grouper(key='CreationDate',\n",
    "                                    freq='1Y')).agg({'Title': 'count'})\n",
    "\n",
    "post_year"
   ]
  },
  {
   "cell_type": "code",
   "execution_count": 13,
   "id": "59478352-b2e2-48d5-b7f0-7a35452d542d",
   "metadata": {},
   "outputs": [
    {
     "data": {
      "image/png": "[encoded data removed]",
      "text/plain": [
       "<Figure size 1500x600 with 1 Axes>"
      ]
     },
     "metadata": {},
     "output_type": "display_data"
    }
   ],
   "source": [
    "# Plot evolution\n",
    "fig = plt.figure(figsize=(15,6))\n",
    "sns.lineplot(data=post_year, x=post_year.index, y='Title')\n",
    "plt.axhline(post_year.Title.mean(), \n",
    "            color=\"r\", linestyle='--',\n",
    "            label=\"Mean of question per year : {:04d}\"\\\n",
    "                   .format(int(post_year.Title.mean())))\n",
    "plt.xlabel(\"Date of questions\")\n",
    "plt.ylabel(\"Number of questions\")\n",
    "plt.title(\"Number of questions evolution from 2008 to 2023\",\n",
    "          fontsize=18, color=\"#641E16\")\n",
    "plt.legend()\n",
    "plt.show()"
   ]
  },
  {
   "cell_type": "code",
   "execution_count": 14,
   "id": "e7571de6-1dbc-44f4-bef0-be70e30aa64b",
   "metadata": {},
   "outputs": [
    {
     "data": {
      "image/png": "[encoded data removed]",
      "text/plain": [
       "<Figure size 2000x1200 with 1 Axes>"
      ]
     },
     "metadata": {},
     "output_type": "display_data"
    }
   ],
   "source": [
    "import numpy as np\n",
    "sns.set_palette(\"Paired\")\n",
    "\n",
    "count_of_y = pandas_df.Title.str.len().value_counts().rename(\"counts\").reset_index()\n",
    "fig = plt.figure(figsize=(20, 12))\n",
    "\n",
    "ax = sns.countplot(x=pandas_df.Title.str.len())\n",
    "\n",
    "start, end = ax.get_xlim()\n",
    "ax.xaxis.set_ticks(np.arange(0, end, 5))\n",
    "plt.axvline(pandas_df.Title.str.len().median() - pandas_df.Title.str.len().min(),\n",
    "            color=\"r\", linestyle='--',\n",
    "            label=\"Title Length median : \"+str(pandas_df.Title.str.len().median()))\n",
    "ax.set_xlabel(\"Length of title\")\n",
    "plt.title(\"Title length of Stackoverflow questions\",\n",
    "          fontsize=18, color=\"#641E16\")\n",
    "plt.legend()\n",
    "plt.show()"
   ]
  },
  {
   "cell_type": "markdown",
   "id": "79ee9a42-42ce-46bb-9967-f2e01078faf7",
   "metadata": {},
   "source": [
    "## Transform"
   ]
  },
  {
   "cell_type": "code",
   "execution_count": 15,
   "id": "c90565d7-4d51-4d64-90d4-ebb9ba71411a",
   "metadata": {},
   "outputs": [
    {
     "data": {
      "text/plain": [
       "0          5\n",
       "1          3\n",
       "2          0\n",
       "3          3\n",
       "4          5\n",
       "          ..\n",
       "2090411    0\n",
       "2090412    4\n",
       "2090413    4\n",
       "2090414    2\n",
       "2090415    0\n",
       "Name: Tags_count, Length: 2090416, dtype: int64"
      ]
     },
     "execution_count": 15,
     "metadata": {},
     "output_type": "execute_result"
    }
   ],
   "source": [
    "pandas_df['Tags_list'] = pandas_df['Tags'].apply(preprocessing.extract_tags)\n",
    "pandas_df.Tags_list\n",
    "\n",
    "\n",
    "pandas_df['Tags_count'] = pandas_df['Tags_list'].apply(preprocessing.count)\n",
    "pandas_df.Tags_count"
   ]
  },
  {
   "cell_type": "code",
   "execution_count": 16,
   "id": "59575b98-845d-4a70-be27-71df699ac18d",
   "metadata": {},
   "outputs": [
    {
     "data": {
      "image/png": "[encoded data removed]",
      "text/plain": [
       "<Figure size 1200x800 with 1 Axes>"
      ]
     },
     "metadata": {},
     "output_type": "display_data"
    }
   ],
   "source": [
    "# Plot Number of tags used per questions\n",
    "fig = plt.figure(figsize=(12, 8))\n",
    "ax = sns.countplot(x=pandas_df.Tags_count, color=\"#f48023\")\n",
    "\n",
    "ax.set_xlabel(\"Tags\")\n",
    "plt.title(\"Number of tags used per question\",\n",
    "          fontsize=18, color=\"#641E16\")\n",
    "plt.ticklabel_format(style='plain', axis='y')\n",
    "plt.show()"
   ]
  },
  {
   "cell_type": "markdown",
   "id": "a9f09416-c2b0-4324-890d-509d0390be62",
   "metadata": {},
   "source": [
    "Remove data where there are no tags"
   ]
  },
  {
   "cell_type": "code",
   "execution_count": 17,
   "id": "fb1be52a-c538-4854-ac46-0db70f21fc84",
   "metadata": {},
   "outputs": [
    {
     "name": "stdout",
     "output_type": "stream",
     "text": [
      "<class 'pandas.core.frame.DataFrame'>\n",
      "RangeIndex: 829039 entries, 0 to 829038\n",
      "Data columns (total 25 columns):\n",
      " #   Column                 Non-Null Count   Dtype         \n",
      "---  ------                 --------------   -----         \n",
      " 0   index                  829039 non-null  int64         \n",
      " 1   Id                     829039 non-null  int64         \n",
      " 2   PostTypeId             829039 non-null  int64         \n",
      " 3   AcceptedAnswerId       438123 non-null  float64       \n",
      " 4   CreationDate           829039 non-null  datetime64[ns]\n",
      " 5   Score                  829039 non-null  int64         \n",
      " 6   ViewCount              828975 non-null  float64       \n",
      " 7   Body                   829016 non-null  object        \n",
      " 8   OwnerUserId            811190 non-null  float64       \n",
      " 9   LastEditorUserId       450675 non-null  float64       \n",
      " 10  LastEditorDisplayName  12204 non-null   object        \n",
      " 11  LastEditDate           459644 non-null  datetime64[ns]\n",
      " 12  LastActivityDate       829039 non-null  datetime64[ns]\n",
      " 13  Title                  829039 non-null  object        \n",
      " 14  Tags                   829039 non-null  object        \n",
      " 15  AnswerCount            828975 non-null  float64       \n",
      " 16  CommentCount           829039 non-null  int64         \n",
      " 17  FavoriteCount          192306 non-null  float64       \n",
      " 18  CommunityOwnedDate     469 non-null     object        \n",
      " 19  ContentLicense         829039 non-null  object        \n",
      " 20  ParentId               0 non-null       float64       \n",
      " 21  OwnerDisplayName       22240 non-null   object        \n",
      " 22  ClosedDate             37390 non-null   datetime64[ns]\n",
      " 23  Tags_list              829039 non-null  object        \n",
      " 24  Tags_count             829039 non-null  int64         \n",
      "dtypes: datetime64[ns](4), float64(7), int64(6), object(8)\n",
      "memory usage: 158.1+ MB\n"
     ]
    }
   ],
   "source": [
    "df_with_tags = pandas_df.drop(pandas_df[pandas_df.Tags_count == 0].index).reset_index()\n",
    "df_with_tags.info()"
   ]
  },
  {
   "cell_type": "code",
   "execution_count": 18,
   "id": "e49bc0e5-4342-40e5-951f-635e20c1c03a",
   "metadata": {},
   "outputs": [
    {
     "data": {
      "text/html": [
       "<div>\n",
       "<style scoped>\n",
       "    .dataframe tbody tr th:only-of-type {\n",
       "        vertical-align: middle;\n",
       "    }\n",
       "\n",
       "    .dataframe tbody tr th {\n",
       "        vertical-align: top;\n",
       "    }\n",
       "\n",
       "    .dataframe thead th {\n",
       "        text-align: right;\n",
       "    }\n",
       "</style>\n",
       "<table border=\"1\" class=\"dataframe\">\n",
       "  <thead>\n",
       "    <tr style=\"text-align: right;\">\n",
       "      <th></th>\n",
       "      <th>Tags_list</th>\n",
       "      <th>count</th>\n",
       "    </tr>\n",
       "  </thead>\n",
       "  <tbody>\n",
       "    <tr>\n",
       "      <th>0</th>\n",
       "      <td>javascript</td>\n",
       "      <td>86344</td>\n",
       "    </tr>\n",
       "    <tr>\n",
       "      <th>1</th>\n",
       "      <td>java</td>\n",
       "      <td>69490</td>\n",
       "    </tr>\n",
       "    <tr>\n",
       "      <th>2</th>\n",
       "      <td>python</td>\n",
       "      <td>66514</td>\n",
       "    </tr>\n",
       "    <tr>\n",
       "      <th>3</th>\n",
       "      <td>c#</td>\n",
       "      <td>58154</td>\n",
       "    </tr>\n",
       "    <tr>\n",
       "      <th>4</th>\n",
       "      <td>php</td>\n",
       "      <td>54413</td>\n",
       "    </tr>\n",
       "    <tr>\n",
       "      <th>...</th>\n",
       "      <td>...</td>\n",
       "      <td>...</td>\n",
       "    </tr>\n",
       "    <tr>\n",
       "      <th>40535</th>\n",
       "      <td>omnipascal</td>\n",
       "      <td>1</td>\n",
       "    </tr>\n",
       "    <tr>\n",
       "      <th>40536</th>\n",
       "      <td>null-propagation-operator</td>\n",
       "      <td>1</td>\n",
       "    </tr>\n",
       "    <tr>\n",
       "      <th>40537</th>\n",
       "      <td>nswindowrestoration</td>\n",
       "      <td>1</td>\n",
       "    </tr>\n",
       "    <tr>\n",
       "      <th>40538</th>\n",
       "      <td>om.next</td>\n",
       "      <td>1</td>\n",
       "    </tr>\n",
       "    <tr>\n",
       "      <th>40539</th>\n",
       "      <td>pigpio</td>\n",
       "      <td>1</td>\n",
       "    </tr>\n",
       "  </tbody>\n",
       "</table>\n",
       "<p>40540 rows × 2 columns</p>\n",
       "</div>"
      ],
      "text/plain": [
       "                       Tags_list  count\n",
       "0                     javascript  86344\n",
       "1                           java  69490\n",
       "2                         python  66514\n",
       "3                             c#  58154\n",
       "4                            php  54413\n",
       "...                          ...    ...\n",
       "40535                 omnipascal      1\n",
       "40536  null-propagation-operator      1\n",
       "40537        nswindowrestoration      1\n",
       "40538                    om.next      1\n",
       "40539                     pigpio      1\n",
       "\n",
       "[40540 rows x 2 columns]"
      ]
     },
     "execution_count": 18,
     "metadata": {},
     "output_type": "execute_result"
    }
   ],
   "source": [
    "tags = (df_with_tags.Tags_list.explode().value_counts().to_frame().reset_index())\n",
    "tags"
   ]
  },
  {
   "cell_type": "code",
   "execution_count": 19,
   "id": "1badec87-070a-41e3-a9ef-8f2aeba4e9d6",
   "metadata": {},
   "outputs": [
    {
     "name": "stdout",
     "output_type": "stream",
     "text": [
      "['javascript', 'java', 'python', 'c#', 'php', 'android', 'html', 'jquery', 'c++', 'css', 'ios', 'mysql', 'sql', 'r', 'node.js', 'arrays', 'asp.net', 'c', 'ruby-on-rails', 'json', '.net', 'sql-server', 'reactjs', 'objective-c', 'swift', 'python-3.x', 'angularjs', 'django', 'angular', 'excel', 'regex', 'iphone', 'ruby', 'ajax', 'xml', 'linux', 'pandas', 'asp.net-mvc', 'vba', 'spring', 'database', 'wordpress', 'string', 'laravel', 'wpf', 'typescript', 'windows', 'mongodb', 'xcode', 'postgresql']\n"
     ]
    }
   ],
   "source": [
    "top_tags = list(tags.Tags_list.iloc[0:50])\n",
    "print(top_tags)"
   ]
  },
  {
   "cell_type": "code",
   "execution_count": 20,
   "id": "164688e0-5dc0-4636-8245-ea2446c7422b",
   "metadata": {},
   "outputs": [
    {
     "data": {
      "image/png": "[encoded data removed]",
      "text/plain": [
       "<Figure size 1500x800 with 1 Axes>"
      ]
     },
     "metadata": {},
     "output_type": "display_data"
    }
   ],
   "source": [
    "# Plot Number of most popular tags\n",
    "\n",
    "top =30\n",
    "ig = plt.figure(figsize=(15, 8))\n",
    "sns.barplot(data=tags.iloc[0:top,:],\n",
    "            x=tags.iloc[0:top, :].Tags_list,\n",
    "            y=\"count\", color=\"#f48023\")\n",
    "plt.xticks(rotation=90)\n",
    "plt.title(f\"{top} most popular tags in Stackoverflow\",\n",
    "          fontsize=18, color=\"#641E16\")\n",
    "plt.show()"
   ]
  },
  {
   "cell_type": "code",
   "execution_count": 21,
   "id": "076cc81e-0d79-4d6e-abe9-1f79c7f5f08f",
   "metadata": {},
   "outputs": [
    {
     "data": {
      "image/png": "[encoded data removed]",
      "text/plain": [
       "<Figure size 1200x800 with 1 Axes>"
      ]
     },
     "metadata": {},
     "output_type": "display_data"
    }
   ],
   "source": [
    "# Plot number of tags used per questions\n",
    "fig = plt.figure(figsize=(12, 8))\n",
    "ax = sns.countplot(x=df_with_tags.Tags_count, color=\"#f48023\")\n",
    "\n",
    "ax.set_xlabel(\"Tags\")\n",
    "plt.title(\"Number of tags used per question\",\n",
    "          fontsize=18, color=\"#641E16\")\n",
    "\n",
    "plt.show()"
   ]
  },
  {
   "cell_type": "code",
   "execution_count": 22,
   "id": "814804c8-9e44-4096-8898-fcc35dd1e286",
   "metadata": {},
   "outputs": [],
   "source": [
    "import spacy\n",
    "import nltk\n",
    "from nltk.corpus import stopwords\n",
    "\n",
    "english_model = spacy.load(\"en_core_web_sm\", exclude=[\"tok2vec\", \"ner\", \"parser\", \"lemmatizer\"])\n",
    "lang = \"english\"\n",
    "englis_stop_words = stopwords.words(lang)\n",
    "wordnet_lemmatizer = nltk.WordNetLemmatizer()\n",
    "# create ruler to transform\n",
    "ruler = english_model.get_pipe(\"attribute_ruler\")\n",
    "pattern = [[{\"TEXT\": {\"REGEX\": r\"^(.+)?\\.(py|xml|java)$\"}}]]\n",
    "attrs = {\"POS\": \"PROPN\"}\n",
    "# Add rules to the attribute ruler\n",
    "ruler.add(patterns=pattern, attrs=attrs, index=0)"
   ]
  },
  {
   "cell_type": "code",
   "execution_count": 23,
   "id": "53f557eb-d9ad-4b48-9af3-c3aa59f33e0a",
   "metadata": {},
   "outputs": [
    {
     "name": "stderr",
     "output_type": "stream",
     "text": [
      "2024-01-02 19:33:20,145 - tag_generator - INFO - Loaded data: (829039, 25)\n",
      "2024-01-02 19:33:20,145 - tag_generator - INFO - Cleaning Tags info..\n",
      "2024-01-02 19:33:20,228 - tag_generator - INFO - Removed line where 'Tags' is Nan (829039, 25)\n"
     ]
    },
    {
     "data": {
      "application/vnd.jupyter.widget-view+json": {
       "model_id": "f8b561815da7482c889c4b3eeead6734",
       "version_major": 2,
       "version_minor": 0
      },
      "text/plain": [
       "  0%|          | 0/829039 [00:00<?, ?it/s]"
      ]
     },
     "metadata": {},
     "output_type": "display_data"
    },
    {
     "data": {
      "application/vnd.jupyter.widget-view+json": {
       "model_id": "4d38767dbb56448aabfb50820086d530",
       "version_major": 2,
       "version_minor": 0
      },
      "text/plain": [
       "  0%|          | 0/829039 [00:00<?, ?it/s]"
      ]
     },
     "metadata": {},
     "output_type": "display_data"
    },
    {
     "name": "stderr",
     "output_type": "stream",
     "text": [
      "2024-01-02 19:33:21,779 - tag_generator - INFO - Transformed Tags into Tags List: (829039, 25)\n",
      "2024-01-02 19:33:21,780 - tag_generator - INFO - Dropping rows where there are no Tags...\n"
     ]
    },
    {
     "name": "stdout",
     "output_type": "stream",
     "text": [
      "                       Tags_list  count\n",
      "0                     javascript  86344\n",
      "1                           java  69490\n",
      "2                         python  66514\n",
      "3                             c#  58154\n",
      "4                            php  54413\n",
      "...                          ...    ...\n",
      "40535                 omnipascal      1\n",
      "40536  null-propagation-operator      1\n",
      "40537        nswindowrestoration      1\n",
      "40538                    om.next      1\n",
      "40539                     pigpio      1\n",
      "\n",
      "[40540 rows x 2 columns]\n"
     ]
    },
    {
     "name": "stderr",
     "output_type": "stream",
     "text": [
      "2024-01-02 19:33:22,489 - tag_generator - INFO - Dropping rows where there are no Tags: (829039, 26)\n",
      "2024-01-02 19:33:22,489 - tag_generator - INFO - Dropping rows where there are no tags between top tags...\n"
     ]
    },
    {
     "data": {
      "application/vnd.jupyter.widget-view+json": {
       "model_id": "b8d94d90e4d34cb6bb440f8d92027e4b",
       "version_major": 2,
       "version_minor": 0
      },
      "text/plain": [
       "  0%|          | 0/829039 [00:00<?, ?it/s]"
      ]
     },
     "metadata": {},
     "output_type": "display_data"
    },
    {
     "name": "stderr",
     "output_type": "stream",
     "text": [
      "2024-01-02 19:33:24,205 - tag_generator - INFO - Dropped rows where there are no Tags: (692883, 28)\n",
      "2024-01-02 19:33:24,206 - tag_generator - INFO - Cleaned Tags info! (692883, 28)\n",
      "2024-01-02 19:33:24,207 - tag_generator - INFO - Cleaning Text...\n",
      "2024-01-02 19:33:24,207 - tag_generator - INFO - Dropping rows where there are no Bodys...\n",
      "2024-01-02 19:33:24,402 - tag_generator - INFO - Dropped rows where there are no Bodys: (692883, 28)\n",
      "2024-01-02 19:33:24,403 - tag_generator - INFO - Detecting lang...\n"
     ]
    },
    {
     "name": "stdout",
     "output_type": "stream",
     "text": [
      "Function create_tags_pipe, Took 4.0612 seconds\n"
     ]
    },
    {
     "data": {
      "application/vnd.jupyter.widget-view+json": {
       "model_id": "b716d63bd8b549ec854ec489c3146fe7",
       "version_major": 2,
       "version_minor": 0
      },
      "text/plain": [
       "  0%|          | 0/692883 [00:00<?, ?it/s]"
      ]
     },
     "metadata": {},
     "output_type": "display_data"
    },
    {
     "data": {
      "application/vnd.jupyter.widget-view+json": {
       "model_id": "37543203c99a44a6837e2614ec46bd95",
       "version_major": 2,
       "version_minor": 0
      },
      "text/plain": [
       "  0%|          | 0/692883 [00:00<?, ?it/s]"
      ]
     },
     "metadata": {},
     "output_type": "display_data"
    },
    {
     "data": {
      "application/vnd.jupyter.widget-view+json": {
       "model_id": "497353141e4a48b2803e8302661c02f5",
       "version_major": 2,
       "version_minor": 0
      },
      "text/plain": [
       "  0%|          | 0/692883 [00:00<?, ?it/s]"
      ]
     },
     "metadata": {},
     "output_type": "display_data"
    },
    {
     "name": "stderr",
     "output_type": "stream",
     "text": [
      "2024-01-02 19:49:11,187 - tag_generator - INFO - Keeping english content: (679162, 31)\n",
      "2024-01-02 19:49:11,187 - tag_generator - INFO - Cleaning body...\n"
     ]
    },
    {
     "data": {
      "application/vnd.jupyter.widget-view+json": {
       "model_id": "b0ea75366ace468e8fc271929c0624f8",
       "version_major": 2,
       "version_minor": 0
      },
      "text/plain": [
       "  0%|          | 0/679162 [00:00<?, ?it/s]"
      ]
     },
     "metadata": {},
     "output_type": "display_data"
    },
    {
     "name": "stderr",
     "output_type": "stream",
     "text": [
      "2024-01-02 20:09:32,832 - tag_generator - INFO - Cleaned body: (679162, 33)\n",
      "2024-01-02 20:09:32,833 - tag_generator - INFO - Cleaning title...\n"
     ]
    },
    {
     "data": {
      "application/vnd.jupyter.widget-view+json": {
       "model_id": "5fffc8d25b2a44c7b57d73972da8a232",
       "version_major": 2,
       "version_minor": 0
      },
      "text/plain": [
       "  0%|          | 0/679162 [00:00<?, ?it/s]"
      ]
     },
     "metadata": {},
     "output_type": "display_data"
    },
    {
     "name": "stderr",
     "output_type": "stream",
     "text": [
      "2024-01-02 20:11:54,963 - tag_generator - INFO - Cleaned title: (679162, 35)\n",
      "2024-01-02 20:11:55,715 - tag_generator - INFO - Cleaned Text: (679162, 35)\n"
     ]
    },
    {
     "name": "stdout",
     "output_type": "stream",
     "text": [
      "Function create_text_pipe, Took 2310.7189 seconds\n",
      "Function create_pipe, Took 2316.0398 seconds\n"
     ]
    }
   ],
   "source": [
    "clean_df = feature_pipeline.create_pipe(df_with_tags, 100, wordnet_lemmatizer, englis_stop_words, english_model)"
   ]
  },
  {
   "cell_type": "code",
   "execution_count": 24,
   "id": "beb0fc6e-766a-43cf-824c-938ee3ad4ec8",
   "metadata": {},
   "outputs": [
    {
     "data": {
      "text/plain": [
       "0                          [c#]\n",
       "1                   [html, css]\n",
       "2                    [c#, .net]\n",
       "3                          [c#]\n",
       "4                        [html]\n",
       "                  ...          \n",
       "829031            [spring-boot]\n",
       "829032                [windows]\n",
       "829033         [python, apache]\n",
       "829036    [javascript, reactjs]\n",
       "829037                     [c#]\n",
       "Name: top_tags, Length: 676651, dtype: object"
      ]
     },
     "execution_count": 24,
     "metadata": {},
     "output_type": "execute_result"
    }
   ],
   "source": [
    "clean_df[\"top_tags\"]"
   ]
  },
  {
   "cell_type": "code",
   "execution_count": 25,
   "id": "0bc7f0fe-d9a8-4d5e-b12d-e6c4b8588988",
   "metadata": {},
   "outputs": [],
   "source": [
    "selected_col = [\"clean_title\", \"clean_body\", \"Tags_list\", \"top_tags\"] #, \"contains_code\"]\n",
    "col_new_names = {\n",
    "    \"clean_title\": \"Title\",\n",
    "    \"clean_body\": \"Body\",\n",
    "    \"Tags_list\": \"All_Tags\",\n",
    "     \"top_tags\": \"Tags\",\n",
    "    #\"contains_code\": \"Contains_Code\",\n",
    "}\n",
    "\n",
    "selected_df = clean_df[selected_col]\n",
    "selected_df = selected_df.rename(columns=col_new_names)"
   ]
  },
  {
   "cell_type": "code",
   "execution_count": 26,
   "id": "bcfe56a3-f762-4f90-a75b-bdb43b7aa2d3",
   "metadata": {},
   "outputs": [
    {
     "data": {
      "text/html": [
       "<div>\n",
       "<style scoped>\n",
       "    .dataframe tbody tr th:only-of-type {\n",
       "        vertical-align: middle;\n",
       "    }\n",
       "\n",
       "    .dataframe tbody tr th {\n",
       "        vertical-align: top;\n",
       "    }\n",
       "\n",
       "    .dataframe thead th {\n",
       "        text-align: right;\n",
       "    }\n",
       "</style>\n",
       "<table border=\"1\" class=\"dataframe\">\n",
       "  <thead>\n",
       "    <tr style=\"text-align: right;\">\n",
       "      <th></th>\n",
       "      <th>Title</th>\n",
       "      <th>Body</th>\n",
       "      <th>All_Tags</th>\n",
       "      <th>Tags</th>\n",
       "    </tr>\n",
       "  </thead>\n",
       "  <tbody>\n",
       "    <tr>\n",
       "      <th>0</th>\n",
       "      <td>[convert, decimal, double]</td>\n",
       "      <td>[want, assign, decimal, variable, trans, doubl...</td>\n",
       "      <td>[c#, floating-point, type-conversion, double, ...</td>\n",
       "      <td>[c#]</td>\n",
       "    </tr>\n",
       "    <tr>\n",
       "      <th>1</th>\n",
       "      <td>[width, collapse, percentage, width, child, el...</td>\n",
       "      <td>[absolutely, positioned, containing, several, ...</td>\n",
       "      <td>[html, css, internet-explorer-7]</td>\n",
       "      <td>[html, css]</td>\n",
       "    </tr>\n",
       "    <tr>\n",
       "      <th>2</th>\n",
       "      <td>[calculate, age, based, datetime, type, birthday]</td>\n",
       "      <td>[given, representing, person, birthday, calcul...</td>\n",
       "      <td>[c#, .net, datetime]</td>\n",
       "      <td>[c#, .net]</td>\n",
       "    </tr>\n",
       "    <tr>\n",
       "      <th>3</th>\n",
       "      <td>[calculate, relative, time]</td>\n",
       "      <td>[given, specific, value, display, relative, ti...</td>\n",
       "      <td>[c#, datetime, time, datediff, relative-time-s...</td>\n",
       "      <td>[c#]</td>\n",
       "    </tr>\n",
       "    <tr>\n",
       "      <th>4</th>\n",
       "      <td>[determine, user, timezone]</td>\n",
       "      <td>[standard, way, web, server, able, determine, ...</td>\n",
       "      <td>[html, browser, timezone, user-agent, timezone...</td>\n",
       "      <td>[html]</td>\n",
       "    </tr>\n",
       "    <tr>\n",
       "      <th>...</th>\n",
       "      <td>...</td>\n",
       "      <td>...</td>\n",
       "      <td>...</td>\n",
       "      <td>...</td>\n",
       "    </tr>\n",
       "    <tr>\n",
       "      <th>829031</th>\n",
       "      <td>[testcontainers, kafka, container, throw, nocl...</td>\n",
       "      <td>[trying, setup, kafka, container, using, testc...</td>\n",
       "      <td>[spring-boot, testcontainers]</td>\n",
       "      <td>[spring-boot]</td>\n",
       "    </tr>\n",
       "    <tr>\n",
       "      <th>829032</th>\n",
       "      <td>[iogetdeviceobjectpointer, return, status_inva...</td>\n",
       "      <td>[want, send, irp, minifilter, another, kernel,...</td>\n",
       "      <td>[windows, kernel, minifilter, irp]</td>\n",
       "      <td>[windows]</td>\n",
       "    </tr>\n",
       "    <tr>\n",
       "      <th>829033</th>\n",
       "      <td>[apache, making, python, acting, differently]</td>\n",
       "      <td>[working, iot, project, using, flask, run, pro...</td>\n",
       "      <td>[python, apache, raspberry-pi, pigpio]</td>\n",
       "      <td>[python, apache]</td>\n",
       "    </tr>\n",
       "    <tr>\n",
       "      <th>829036</th>\n",
       "      <td>[get, fully, visible, component, using, inters...</td>\n",
       "      <td>[trying, implement, function, show, component,...</td>\n",
       "      <td>[javascript, reactjs, web, intersection-observer]</td>\n",
       "      <td>[javascript, reactjs]</td>\n",
       "    </tr>\n",
       "    <tr>\n",
       "      <th>829037</th>\n",
       "      <td>[prevent, blazor, mud, snackbar, opening, acro...</td>\n",
       "      <td>['ve, followed, guide, creating, mudblazor, sn...</td>\n",
       "      <td>[c#, blazor, snackbar, mudblazor]</td>\n",
       "      <td>[c#]</td>\n",
       "    </tr>\n",
       "  </tbody>\n",
       "</table>\n",
       "<p>676651 rows × 4 columns</p>\n",
       "</div>"
      ],
      "text/plain": [
       "                                                    Title  \\\n",
       "0                              [convert, decimal, double]   \n",
       "1       [width, collapse, percentage, width, child, el...   \n",
       "2       [calculate, age, based, datetime, type, birthday]   \n",
       "3                             [calculate, relative, time]   \n",
       "4                             [determine, user, timezone]   \n",
       "...                                                   ...   \n",
       "829031  [testcontainers, kafka, container, throw, nocl...   \n",
       "829032  [iogetdeviceobjectpointer, return, status_inva...   \n",
       "829033      [apache, making, python, acting, differently]   \n",
       "829036  [get, fully, visible, component, using, inters...   \n",
       "829037  [prevent, blazor, mud, snackbar, opening, acro...   \n",
       "\n",
       "                                                     Body  \\\n",
       "0       [want, assign, decimal, variable, trans, doubl...   \n",
       "1       [absolutely, positioned, containing, several, ...   \n",
       "2       [given, representing, person, birthday, calcul...   \n",
       "3       [given, specific, value, display, relative, ti...   \n",
       "4       [standard, way, web, server, able, determine, ...   \n",
       "...                                                   ...   \n",
       "829031  [trying, setup, kafka, container, using, testc...   \n",
       "829032  [want, send, irp, minifilter, another, kernel,...   \n",
       "829033  [working, iot, project, using, flask, run, pro...   \n",
       "829036  [trying, implement, function, show, component,...   \n",
       "829037  ['ve, followed, guide, creating, mudblazor, sn...   \n",
       "\n",
       "                                                 All_Tags  \\\n",
       "0       [c#, floating-point, type-conversion, double, ...   \n",
       "1                        [html, css, internet-explorer-7]   \n",
       "2                                    [c#, .net, datetime]   \n",
       "3       [c#, datetime, time, datediff, relative-time-s...   \n",
       "4       [html, browser, timezone, user-agent, timezone...   \n",
       "...                                                   ...   \n",
       "829031                      [spring-boot, testcontainers]   \n",
       "829032                 [windows, kernel, minifilter, irp]   \n",
       "829033             [python, apache, raspberry-pi, pigpio]   \n",
       "829036  [javascript, reactjs, web, intersection-observer]   \n",
       "829037                  [c#, blazor, snackbar, mudblazor]   \n",
       "\n",
       "                         Tags  \n",
       "0                        [c#]  \n",
       "1                 [html, css]  \n",
       "2                  [c#, .net]  \n",
       "3                        [c#]  \n",
       "4                      [html]  \n",
       "...                       ...  \n",
       "829031          [spring-boot]  \n",
       "829032              [windows]  \n",
       "829033       [python, apache]  \n",
       "829036  [javascript, reactjs]  \n",
       "829037                   [c#]  \n",
       "\n",
       "[676651 rows x 4 columns]"
      ]
     },
     "execution_count": 26,
     "metadata": {},
     "output_type": "execute_result"
    }
   ],
   "source": [
    "selected_df.iloc[0][\"All_Tags\"]\n",
    "selected_df"
   ]
  },
  {
   "cell_type": "code",
   "execution_count": 28,
   "id": "bb62ad48-b33f-4fe3-97da-230178779ad5",
   "metadata": {},
   "outputs": [
    {
     "name": "stdout",
     "output_type": "stream",
     "text": [
      "/Users/tatia/Developer/tag-generator/core/data/final/2024-01-02/19\n",
      "193120_final_so_questions_2008_2023.csv\n"
     ]
    }
   ],
   "source": [
    "staged_prefix = prefix.format(stage=\"final\")\n",
    "output_dir = f\"{staged_prefix}/{today.strftime('%Y-%m-%d/%H')}\"\n",
    "print(output_dir)\n",
    "file_name = f\"{time}_final_so_questions_2008_2023.csv\"\n",
    "print(file_name)\n",
    "\n",
    "Path(output_dir).mkdir(parents=True, exist_ok=True)\n",
    "selected_df.to_csv(f\"{output_dir}/{file_name}\")"
   ]
  },
  {
   "cell_type": "code",
   "execution_count": null,
   "id": "8d4fb6e4-d70e-4b9b-a99a-88354774ba24",
   "metadata": {},
   "outputs": [],
   "source": []
  }
 ],
 "metadata": {
  "kernelspec": {
   "display_name": "Python 3 (ipykernel)",
   "language": "python",
   "name": "python3"
  },
  "language_info": {
   "codemirror_mode": {
    "name": "ipython",
    "version": 3
   },
   "file_extension": ".py",
   "mimetype": "text/x-python",
   "name": "python",
   "nbconvert_exporter": "python",
   "pygments_lexer": "ipython3",
   "version": "3.12.0"
  }
 },
 "nbformat": 4,
 "nbformat_minor": 5
}
